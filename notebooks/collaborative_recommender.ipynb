{
 "cells": [
  {
   "cell_type": "code",
   "execution_count": 1,
   "metadata": {},
   "outputs": [],
   "source": [
    "import pandas as pd"
   ]
  },
  {
   "cell_type": "markdown",
   "metadata": {},
   "source": [
    "Refer to [link](https://files.grouplens.org/datasets/movielens/ml-25m-README.html) for more information about this open source dataset."
   ]
  },
  {
   "cell_type": "code",
   "execution_count": 2,
   "metadata": {},
   "outputs": [],
   "source": [
    "g_scores_df = pd.read_csv('../data/genome-scores.csv')\n",
    "g_tags_df = pd.read_csv('../data/genome-tags.csv')\n",
    "links_df = pd.read_csv('../data/links.csv')\n",
    "ratings_df = pd.read_csv('../data/ratings.csv')\n",
    "tags_df = pd.read_csv('../data/tags.csv')\n",
    "movies_df = pd.read_csv('../data/movies.csv')"
   ]
  },
  {
   "cell_type": "markdown",
   "metadata": {},
   "source": [
    "# What are we doing?\n",
    "First thing that we need to do is to prepare the data. So what do we need?\n",
    "We have a lot of information here so let's go dataset by dataset\n",
    "\n",
    "- __Genome-scores__: We get relevance for tags from this and this will allow us to reduce the number of tags associated with each movie. So what does high / low relevance mean? Where should we place our threshold?\n",
    "- __g_tags_df__: This is a bridging table and will allow us to (1) provie a more human readable output for out system and (2) can be used with NLP techniques (Content-based)\n",
    "- __links_df__: Another bridging table that will allow us to easily(?) merge our enrichment set. (Content-based?)\n",
    "- __ratings_df__: The crux and meat of our data. (1) What ratings are we seeing? How do the distributions look? (sample) (2) How does the time of events for watching movies look? Should we include movies from users which were watched 1 year apart? How taste changed so much by that point? Can we test this?\n",
    "- __tags_df__: Allows us to include more information about a movie. (Content-based)\n",
    "- __movies_df__: (1) Add genres (Content-based)\n",
    "\n",
    "Additionally - We should probably include a general genre trend e.g. Seasonal (Romance towards Christmas), Blockbusters (Action, Comedy)\n",
    "\n",
    "Further to the ordinary recommender system which tends to heavily bias towards films that have already gained traction, we want to introduce common categories of films that garner interest. We will include:\n",
    "\n",
    "- Wild card: A film that doesn't have many reviews but still shows high rating for the consumer\n",
    "- Bad movie: A movie that's so bad it's good - think Tommy Wiseau\n",
    "- Breaking the mould: Consider a movie that isn't normally up your street but something we think you might enjoy.\n"
   ]
  },
  {
   "cell_type": "markdown",
   "metadata": {},
   "source": [
    "## Tag Relevance Scores"
   ]
  },
  {
   "cell_type": "code",
   "execution_count": 3,
   "metadata": {},
   "outputs": [
    {
     "data": {
      "text/html": [
       "<div>\n",
       "<style scoped>\n",
       "    .dataframe tbody tr th:only-of-type {\n",
       "        vertical-align: middle;\n",
       "    }\n",
       "\n",
       "    .dataframe tbody tr th {\n",
       "        vertical-align: top;\n",
       "    }\n",
       "\n",
       "    .dataframe thead th {\n",
       "        text-align: right;\n",
       "    }\n",
       "</style>\n",
       "<table border=\"1\" class=\"dataframe\">\n",
       "  <thead>\n",
       "    <tr style=\"text-align: right;\">\n",
       "      <th></th>\n",
       "      <th>movieId</th>\n",
       "      <th>tagId</th>\n",
       "      <th>relevance</th>\n",
       "    </tr>\n",
       "  </thead>\n",
       "  <tbody>\n",
       "    <tr>\n",
       "      <th>0</th>\n",
       "      <td>1</td>\n",
       "      <td>1</td>\n",
       "      <td>0.02875</td>\n",
       "    </tr>\n",
       "    <tr>\n",
       "      <th>1</th>\n",
       "      <td>1</td>\n",
       "      <td>2</td>\n",
       "      <td>0.02375</td>\n",
       "    </tr>\n",
       "    <tr>\n",
       "      <th>2</th>\n",
       "      <td>1</td>\n",
       "      <td>3</td>\n",
       "      <td>0.06250</td>\n",
       "    </tr>\n",
       "    <tr>\n",
       "      <th>3</th>\n",
       "      <td>1</td>\n",
       "      <td>4</td>\n",
       "      <td>0.07575</td>\n",
       "    </tr>\n",
       "    <tr>\n",
       "      <th>4</th>\n",
       "      <td>1</td>\n",
       "      <td>5</td>\n",
       "      <td>0.14075</td>\n",
       "    </tr>\n",
       "  </tbody>\n",
       "</table>\n",
       "</div>"
      ],
      "text/plain": [
       "   movieId  tagId  relevance\n",
       "0        1      1    0.02875\n",
       "1        1      2    0.02375\n",
       "2        1      3    0.06250\n",
       "3        1      4    0.07575\n",
       "4        1      5    0.14075"
      ]
     },
     "execution_count": 3,
     "metadata": {},
     "output_type": "execute_result"
    }
   ],
   "source": [
    "g_scores_df.head()"
   ]
  },
  {
   "cell_type": "markdown",
   "metadata": {},
   "source": [
    "### What is the distribution?\n",
    "How have relevance scores been scored? Manual or is this frequency based?"
   ]
  },
  {
   "cell_type": "code",
   "execution_count": 4,
   "metadata": {},
   "outputs": [
    {
     "data": {
      "text/plain": [
       "<AxesSubplot:ylabel='Frequency'>"
      ]
     },
     "execution_count": 4,
     "metadata": {},
     "output_type": "execute_result"
    },
    {
     "data": {
      "image/png": "[encoded data removed]",
      "text/plain": [
       "<Figure size 640x480 with 1 Axes>"
      ]
     },
     "metadata": {},
     "output_type": "display_data"
    }
   ],
   "source": [
    "g_scores_df['relevance'].plot(kind='hist')"
   ]
  },
  {
   "cell_type": "code",
   "execution_count": 5,
   "metadata": {},
   "outputs": [
    {
     "data": {
      "text/html": [
       "<div>\n",
       "<style scoped>\n",
       "    .dataframe tbody tr th:only-of-type {\n",
       "        vertical-align: middle;\n",
       "    }\n",
       "\n",
       "    .dataframe tbody tr th {\n",
       "        vertical-align: top;\n",
       "    }\n",
       "\n",
       "    .dataframe thead th {\n",
       "        text-align: right;\n",
       "    }\n",
       "</style>\n",
       "<table border=\"1\" class=\"dataframe\">\n",
       "  <thead>\n",
       "    <tr style=\"text-align: right;\">\n",
       "      <th></th>\n",
       "      <th>movieId</th>\n",
       "      <th>tagId</th>\n",
       "      <th>relevance</th>\n",
       "    </tr>\n",
       "  </thead>\n",
       "  <tbody>\n",
       "    <tr>\n",
       "      <th>count</th>\n",
       "      <td>6591.000000</td>\n",
       "      <td>6591.000000</td>\n",
       "      <td>6591.000000</td>\n",
       "    </tr>\n",
       "    <tr>\n",
       "      <th>mean</th>\n",
       "      <td>38405.554696</td>\n",
       "      <td>611.644970</td>\n",
       "      <td>0.994968</td>\n",
       "    </tr>\n",
       "    <tr>\n",
       "      <th>std</th>\n",
       "      <td>47084.649253</td>\n",
       "      <td>333.235151</td>\n",
       "      <td>0.002845</td>\n",
       "    </tr>\n",
       "    <tr>\n",
       "      <th>min</th>\n",
       "      <td>1.000000</td>\n",
       "      <td>1.000000</td>\n",
       "      <td>0.990250</td>\n",
       "    </tr>\n",
       "    <tr>\n",
       "      <th>25%</th>\n",
       "      <td>3435.000000</td>\n",
       "      <td>334.500000</td>\n",
       "      <td>0.992500</td>\n",
       "    </tr>\n",
       "    <tr>\n",
       "      <th>50%</th>\n",
       "      <td>7454.000000</td>\n",
       "      <td>631.000000</td>\n",
       "      <td>0.995000</td>\n",
       "    </tr>\n",
       "    <tr>\n",
       "      <th>75%</th>\n",
       "      <td>66253.500000</td>\n",
       "      <td>927.000000</td>\n",
       "      <td>0.997250</td>\n",
       "    </tr>\n",
       "    <tr>\n",
       "      <th>max</th>\n",
       "      <td>180737.000000</td>\n",
       "      <td>1128.000000</td>\n",
       "      <td>1.000000</td>\n",
       "    </tr>\n",
       "  </tbody>\n",
       "</table>\n",
       "</div>"
      ],
      "text/plain": [
       "             movieId        tagId    relevance\n",
       "count    6591.000000  6591.000000  6591.000000\n",
       "mean    38405.554696   611.644970     0.994968\n",
       "std     47084.649253   333.235151     0.002845\n",
       "min         1.000000     1.000000     0.990250\n",
       "25%      3435.000000   334.500000     0.992500\n",
       "50%      7454.000000   631.000000     0.995000\n",
       "75%     66253.500000   927.000000     0.997250\n",
       "max    180737.000000  1128.000000     1.000000"
      ]
     },
     "execution_count": 5,
     "metadata": {},
     "output_type": "execute_result"
    }
   ],
   "source": [
    "## We've found that > 6000 tags have a relevance of greater than 0.99, so let's take a look at what they are\n",
    "g_scores_df[g_scores_df['relevance'] > 0.99].describe()"
   ]
  },
  {
   "cell_type": "code",
   "execution_count": 6,
   "metadata": {},
   "outputs": [
    {
     "data": {
      "text/html": [
       "<div>\n",
       "<style scoped>\n",
       "    .dataframe tbody tr th:only-of-type {\n",
       "        vertical-align: middle;\n",
       "    }\n",
       "\n",
       "    .dataframe tbody tr th {\n",
       "        vertical-align: top;\n",
       "    }\n",
       "\n",
       "    .dataframe thead th {\n",
       "        text-align: right;\n",
       "    }\n",
       "</style>\n",
       "<table border=\"1\" class=\"dataframe\">\n",
       "  <thead>\n",
       "    <tr style=\"text-align: right;\">\n",
       "      <th></th>\n",
       "      <th>movieId</th>\n",
       "      <th>tagId</th>\n",
       "      <th>relevance</th>\n",
       "    </tr>\n",
       "  </thead>\n",
       "  <tbody>\n",
       "    <tr>\n",
       "      <th>count</th>\n",
       "      <td>1.168522e+06</td>\n",
       "      <td>1.168522e+06</td>\n",
       "      <td>1.168522e+06</td>\n",
       "    </tr>\n",
       "    <tr>\n",
       "      <th>mean</th>\n",
       "      <td>4.628220e+04</td>\n",
       "      <td>5.507431e+02</td>\n",
       "      <td>6.445020e-03</td>\n",
       "    </tr>\n",
       "    <tr>\n",
       "      <th>std</th>\n",
       "      <td>5.308064e+04</td>\n",
       "      <td>3.357408e+02</td>\n",
       "      <td>2.228687e-03</td>\n",
       "    </tr>\n",
       "    <tr>\n",
       "      <th>min</th>\n",
       "      <td>1.000000e+00</td>\n",
       "      <td>1.000000e+00</td>\n",
       "      <td>2.500000e-04</td>\n",
       "    </tr>\n",
       "    <tr>\n",
       "      <th>25%</th>\n",
       "      <td>4.237000e+03</td>\n",
       "      <td>2.250000e+02</td>\n",
       "      <td>4.750000e-03</td>\n",
       "    </tr>\n",
       "    <tr>\n",
       "      <th>50%</th>\n",
       "      <td>2.575700e+04</td>\n",
       "      <td>5.710000e+02</td>\n",
       "      <td>6.750000e-03</td>\n",
       "    </tr>\n",
       "    <tr>\n",
       "      <th>75%</th>\n",
       "      <td>8.164100e+04</td>\n",
       "      <td>8.260000e+02</td>\n",
       "      <td>8.250000e-03</td>\n",
       "    </tr>\n",
       "    <tr>\n",
       "      <th>max</th>\n",
       "      <td>2.064990e+05</td>\n",
       "      <td>1.128000e+03</td>\n",
       "      <td>9.750000e-03</td>\n",
       "    </tr>\n",
       "  </tbody>\n",
       "</table>\n",
       "</div>"
      ],
      "text/plain": [
       "            movieId         tagId     relevance\n",
       "count  1.168522e+06  1.168522e+06  1.168522e+06\n",
       "mean   4.628220e+04  5.507431e+02  6.445020e-03\n",
       "std    5.308064e+04  3.357408e+02  2.228687e-03\n",
       "min    1.000000e+00  1.000000e+00  2.500000e-04\n",
       "25%    4.237000e+03  2.250000e+02  4.750000e-03\n",
       "50%    2.575700e+04  5.710000e+02  6.750000e-03\n",
       "75%    8.164100e+04  8.260000e+02  8.250000e-03\n",
       "max    2.064990e+05  1.128000e+03  9.750000e-03"
      ]
     },
     "execution_count": 6,
     "metadata": {},
     "output_type": "execute_result"
    }
   ],
   "source": [
    "g_scores_df[g_scores_df['relevance'] < 0.01].describe()"
   ]
  },
  {
   "cell_type": "code",
   "execution_count": 7,
   "metadata": {},
   "outputs": [
    {
     "data": {
      "text/html": [
       "<div>\n",
       "<style scoped>\n",
       "    .dataframe tbody tr th:only-of-type {\n",
       "        vertical-align: middle;\n",
       "    }\n",
       "\n",
       "    .dataframe tbody tr th {\n",
       "        vertical-align: top;\n",
       "    }\n",
       "\n",
       "    .dataframe thead th {\n",
       "        text-align: right;\n",
       "    }\n",
       "</style>\n",
       "<table border=\"1\" class=\"dataframe\">\n",
       "  <thead>\n",
       "    <tr style=\"text-align: right;\">\n",
       "      <th></th>\n",
       "      <th>tagId</th>\n",
       "      <th>tag</th>\n",
       "    </tr>\n",
       "  </thead>\n",
       "  <tbody>\n",
       "    <tr>\n",
       "      <th>0</th>\n",
       "      <td>1</td>\n",
       "      <td>007</td>\n",
       "    </tr>\n",
       "    <tr>\n",
       "      <th>1</th>\n",
       "      <td>2</td>\n",
       "      <td>007 (series)</td>\n",
       "    </tr>\n",
       "    <tr>\n",
       "      <th>2</th>\n",
       "      <td>3</td>\n",
       "      <td>18th century</td>\n",
       "    </tr>\n",
       "    <tr>\n",
       "      <th>3</th>\n",
       "      <td>4</td>\n",
       "      <td>1920s</td>\n",
       "    </tr>\n",
       "    <tr>\n",
       "      <th>4</th>\n",
       "      <td>5</td>\n",
       "      <td>1930s</td>\n",
       "    </tr>\n",
       "  </tbody>\n",
       "</table>\n",
       "</div>"
      ],
      "text/plain": [
       "   tagId           tag\n",
       "0      1           007\n",
       "1      2  007 (series)\n",
       "2      3  18th century\n",
       "3      4         1920s\n",
       "4      5         1930s"
      ]
     },
     "execution_count": 7,
     "metadata": {},
     "output_type": "execute_result"
    }
   ],
   "source": [
    "g_tags_df.head()"
   ]
  },
  {
   "cell_type": "code",
   "execution_count": 8,
   "metadata": {},
   "outputs": [
    {
     "data": {
      "text/plain": [
       "243      computer animation\n",
       "785         pixar animation\n",
       "1035                   toys\n",
       "10152                   007\n",
       "10153          007 (series)\n",
       "10302                  bond\n",
       "12090             president\n",
       "13365                 spoof\n",
       "13599             animation\n",
       "16575               pirates\n",
       "16792          swashbuckler\n",
       "16835         treasure hunt\n",
       "17106                casino\n",
       "17342              gangster\n",
       "17343             gangsters\n",
       "17541                 mafia\n",
       "17577                   mob\n",
       "17660       organized crime\n",
       "24590         serial killer\n",
       "24896              assassin\n",
       "Name: tag, dtype: object"
      ]
     },
     "execution_count": 8,
     "metadata": {},
     "output_type": "execute_result"
    }
   ],
   "source": [
    "subset_g_scores_df_best = g_scores_df[g_scores_df['relevance'] > 0.99][:20]\n",
    "subset_g_scores_df_best['tag'] = subset_g_scores_df_best['tagId'].apply(lambda x: g_tags_df[g_tags_df['tagId'] == x]['tag'].values[0])\n",
    "subset_g_scores_df_best['tag']"
   ]
  },
  {
   "cell_type": "code",
   "execution_count": 9,
   "metadata": {},
   "outputs": [
    {
     "data": {
      "text/plain": [
       "13                  9/11\n",
       "73                arnold\n",
       "87            australian\n",
       "88     author:alan moore\n",
       "102           bad sequel\n",
       "103               ballet\n",
       "105             baseball\n",
       "116               batman\n",
       "118              beatles\n",
       "186               casino\n",
       "208         christianity\n",
       "224        coen brothers\n",
       "294        depp & burton\n",
       "346          emma watson\n",
       "391       figure skating\n",
       "475            gross-out\n",
       "479             gulf war\n",
       "487             handycam\n",
       "488      hannibal lecter\n",
       "540                india\n",
       "Name: tag, dtype: object"
      ]
     },
     "execution_count": 9,
     "metadata": {},
     "output_type": "execute_result"
    }
   ],
   "source": [
    "subset_g_scores_df_worst = g_scores_df[g_scores_df['relevance'] < 0.01][:20]\n",
    "subset_g_scores_df_worst['tag'] = subset_g_scores_df_worst['tagId'].apply(lambda x: g_tags_df[g_tags_df['tagId'] == x]['tag'].values[0])\n",
    "subset_g_scores_df_worst['tag']"
   ]
  },
  {
   "cell_type": "code",
   "execution_count": 10,
   "metadata": {},
   "outputs": [
    {
     "data": {
      "text/html": [
       "<div>\n",
       "<style scoped>\n",
       "    .dataframe tbody tr th:only-of-type {\n",
       "        vertical-align: middle;\n",
       "    }\n",
       "\n",
       "    .dataframe tbody tr th {\n",
       "        vertical-align: top;\n",
       "    }\n",
       "\n",
       "    .dataframe thead th {\n",
       "        text-align: right;\n",
       "    }\n",
       "</style>\n",
       "<table border=\"1\" class=\"dataframe\">\n",
       "  <thead>\n",
       "    <tr style=\"text-align: right;\">\n",
       "      <th></th>\n",
       "      <th>userId</th>\n",
       "      <th>movieId</th>\n",
       "      <th>tag</th>\n",
       "      <th>timestamp</th>\n",
       "    </tr>\n",
       "  </thead>\n",
       "  <tbody>\n",
       "    <tr>\n",
       "      <th>0</th>\n",
       "      <td>3</td>\n",
       "      <td>260</td>\n",
       "      <td>classic</td>\n",
       "      <td>1439472355</td>\n",
       "    </tr>\n",
       "    <tr>\n",
       "      <th>1</th>\n",
       "      <td>3</td>\n",
       "      <td>260</td>\n",
       "      <td>sci-fi</td>\n",
       "      <td>1439472256</td>\n",
       "    </tr>\n",
       "    <tr>\n",
       "      <th>2</th>\n",
       "      <td>4</td>\n",
       "      <td>1732</td>\n",
       "      <td>dark comedy</td>\n",
       "      <td>1573943598</td>\n",
       "    </tr>\n",
       "    <tr>\n",
       "      <th>3</th>\n",
       "      <td>4</td>\n",
       "      <td>1732</td>\n",
       "      <td>great dialogue</td>\n",
       "      <td>1573943604</td>\n",
       "    </tr>\n",
       "    <tr>\n",
       "      <th>4</th>\n",
       "      <td>4</td>\n",
       "      <td>7569</td>\n",
       "      <td>so bad it's good</td>\n",
       "      <td>1573943455</td>\n",
       "    </tr>\n",
       "  </tbody>\n",
       "</table>\n",
       "</div>"
      ],
      "text/plain": [
       "   userId  movieId               tag   timestamp\n",
       "0       3      260           classic  1439472355\n",
       "1       3      260            sci-fi  1439472256\n",
       "2       4     1732       dark comedy  1573943598\n",
       "3       4     1732    great dialogue  1573943604\n",
       "4       4     7569  so bad it's good  1573943455"
      ]
     },
     "execution_count": 10,
     "metadata": {},
     "output_type": "execute_result"
    }
   ],
   "source": [
    "tags_df.head()"
   ]
  },
  {
   "cell_type": "code",
   "execution_count": 11,
   "metadata": {},
   "outputs": [],
   "source": [
    "## Now that we've found some of the best and worst for relevance, let's find their frequency in the data\n",
    "def tag_counts(tag_list, tag):\n",
    "    tag_count = tag_list.count(tag)\n",
    "    return tag_count"
   ]
  },
  {
   "cell_type": "code",
   "execution_count": 12,
   "metadata": {},
   "outputs": [],
   "source": [
    "subset_g_scores_df_worst['tag_count'] = subset_g_scores_df_worst['tag'].apply(lambda x: tag_counts(tags_df['tag'].to_list(), x))\n",
    "subset_g_scores_df_best['tag_count'] = subset_g_scores_df_best['tag'].apply(lambda x: tag_counts(tags_df['tag'].to_list(), x))"
   ]
  },
  {
   "cell_type": "code",
   "execution_count": 13,
   "metadata": {},
   "outputs": [
    {
     "name": "stdout",
     "output_type": "stream",
     "text": [
      "     movieId  tagId  relevance                tag  tag_count\n",
      "13         1     14    0.00700               9/11         66\n",
      "73         1     74    0.00975             arnold        236\n",
      "87         1     88    0.00575         australian         75\n",
      "88         1     89    0.00675  author:alan moore          0\n",
      "102        1    103    0.00725         bad sequel         80\n",
      "103        1    104    0.00400             ballet        208\n",
      "105        1    106    0.00525           baseball        291\n",
      "116        1    117    0.00550             batman        101\n",
      "118        1    119    0.00375            beatles         10\n",
      "186        1    187    0.00900             casino        190\n",
      "208        1    209    0.00825       christianity        268\n",
      "224        1    225    0.00675      coen brothers        142\n",
      "294        1    295    0.00750      depp & burton          1\n",
      "346        1    347    0.00800        emma watson         17\n",
      "391        1    392    0.00600     figure skating         56\n",
      "475        1    476    0.00975          gross-out          6\n",
      "479        1    480    0.00975           gulf war         11\n",
      "487        1    488    0.00775           handycam          3\n",
      "488        1    489    0.00275    hannibal lecter          8\n",
      "540        1    541    0.00850              india        169\n"
     ]
    }
   ],
   "source": [
    "print(subset_g_scores_df_worst)"
   ]
  },
  {
   "cell_type": "code",
   "execution_count": 14,
   "metadata": {},
   "outputs": [
    {
     "name": "stdout",
     "output_type": "stream",
     "text": [
      "       movieId  tagId  relevance                 tag  tag_count\n",
      "243          1    244    0.99875  computer animation        313\n",
      "785          1    786    0.99575     pixar animation         17\n",
      "1035         1   1036    0.99925                toys         80\n",
      "10152       10      1    0.99950                 007        214\n",
      "10153       10      2    1.00000        007 (series)         75\n",
      "10302       10    151    0.99900                bond         44\n",
      "12090       11    811    0.99675           president         95\n",
      "13365       12    958    0.99275               spoof        398\n",
      "13599       13     64    0.99200           animation       2661\n",
      "16575       15    784    0.99025             pirates        444\n",
      "16792       15   1001    0.99175        swashbuckler        129\n",
      "16835       15   1044    0.99775       treasure hunt        308\n",
      "17106       16    187    0.99325              casino        190\n",
      "17342       16    423    0.99150            gangster        558\n",
      "17343       16    424    0.99025           gangsters        390\n",
      "17541       16    622    0.99500               mafia        638\n",
      "17577       16    658    0.99425                 mob         77\n",
      "17660       16    741    0.99900     organized crime       1104\n",
      "24590       22    903    0.99725       serial killer       2063\n",
      "24896       23     81    0.99250            assassin        965\n"
     ]
    }
   ],
   "source": [
    "print(subset_g_scores_df_best)"
   ]
  },
  {
   "cell_type": "markdown",
   "metadata": {},
   "source": [
    "Since the description of our data tells us *'The tag genome was computed using a machine learning algorithm on user-contributed content including tags, ratings, and textual reviews.'* we can assume from our findings that the relevance score does not correspond to the frequency. We might be able to assume that the relevance score is based on the output of the machine learning algorithm used to generate it. So how many tags on average are associated to each movie?"
   ]
  },
  {
   "cell_type": "code",
   "execution_count": 15,
   "metadata": {},
   "outputs": [
    {
     "data": {
      "text/plain": [
       "movieId\n",
       "1         1128\n",
       "2         1128\n",
       "3         1128\n",
       "4         1128\n",
       "5         1128\n",
       "          ... \n",
       "205072    1128\n",
       "205076    1128\n",
       "205383    1128\n",
       "205425    1128\n",
       "206499    1128\n",
       "Name: movieId, Length: 13816, dtype: int64"
      ]
     },
     "execution_count": 15,
     "metadata": {},
     "output_type": "execute_result"
    }
   ],
   "source": [
    "g_scores_df.groupby('movieId')['movieId'].count().sort_index()"
   ]
  },
  {
   "cell_type": "code",
   "execution_count": 16,
   "metadata": {},
   "outputs": [
    {
     "name": "stdout",
     "output_type": "stream",
     "text": [
      "(15584448, 3)\n",
      "(1128, 2)\n"
     ]
    },
    {
     "data": {
      "text/plain": [
       "15584448"
      ]
     },
     "execution_count": 16,
     "metadata": {},
     "output_type": "execute_result"
    }
   ],
   "source": [
    "# Quick sanity check. We have 13816 unique movie Id's and for each movie, there appears to the 1128 tags. Does this match the dataframe shape?\n",
    "print(g_scores_df.shape)\n",
    "print(g_tags_df.shape)\n",
    "13816*1128"
   ]
  },
  {
   "cell_type": "markdown",
   "metadata": {},
   "source": [
    "Great, now since we know that each movie has the same tags applied, we need to whittle them down to the most relevant for each. So let's take a look at what we've got and where we should set a sensible threshold. "
   ]
  },
  {
   "cell_type": "code",
   "execution_count": 17,
   "metadata": {},
   "outputs": [],
   "source": [
    "## Since we don't really need more than 100 tags, \n",
    "g_scores_df['points_bin'] = pd.qcut(g_scores_df['relevance'], q=20)\n",
    "agg_g_scores_df = g_scores_df.groupby('movieId')['points_bin'].value_counts().to_frame()"
   ]
  },
  {
   "cell_type": "code",
   "execution_count": 18,
   "metadata": {},
   "outputs": [
    {
     "data": {
      "text/html": [
       "<div>\n",
       "<style scoped>\n",
       "    .dataframe tbody tr th:only-of-type {\n",
       "        vertical-align: middle;\n",
       "    }\n",
       "\n",
       "    .dataframe tbody tr th {\n",
       "        vertical-align: top;\n",
       "    }\n",
       "\n",
       "    .dataframe thead th {\n",
       "        text-align: right;\n",
       "    }\n",
       "</style>\n",
       "<table border=\"1\" class=\"dataframe\">\n",
       "  <thead>\n",
       "    <tr style=\"text-align: right;\">\n",
       "      <th></th>\n",
       "      <th></th>\n",
       "      <th>points_bin</th>\n",
       "    </tr>\n",
       "    <tr>\n",
       "      <th>movieId</th>\n",
       "      <th></th>\n",
       "      <th></th>\n",
       "    </tr>\n",
       "  </thead>\n",
       "  <tbody>\n",
       "    <tr>\n",
       "      <th rowspan=\"20\" valign=\"top\">1</th>\n",
       "      <th>(0.447, 1.0]</th>\n",
       "      <td>112</td>\n",
       "    </tr>\n",
       "    <tr>\n",
       "      <th>(0.222, 0.298]</th>\n",
       "      <td>78</td>\n",
       "    </tr>\n",
       "    <tr>\n",
       "      <th>(0.298, 0.447]</th>\n",
       "      <td>75</td>\n",
       "    </tr>\n",
       "    <tr>\n",
       "      <th>(0.174, 0.222]</th>\n",
       "      <td>71</td>\n",
       "    </tr>\n",
       "    <tr>\n",
       "      <th>(0.0958, 0.115]</th>\n",
       "      <td>69</td>\n",
       "    </tr>\n",
       "    <tr>\n",
       "      <th>(0.0565, 0.067]</th>\n",
       "      <td>62</td>\n",
       "    </tr>\n",
       "    <tr>\n",
       "      <th>(0.141, 0.174]</th>\n",
       "      <td>61</td>\n",
       "    </tr>\n",
       "    <tr>\n",
       "      <th>(0.0287, 0.0342]</th>\n",
       "      <td>56</td>\n",
       "    </tr>\n",
       "    <tr>\n",
       "      <th>(0.115, 0.141]</th>\n",
       "      <td>56</td>\n",
       "    </tr>\n",
       "    <tr>\n",
       "      <th>(0.0342, 0.0405]</th>\n",
       "      <td>55</td>\n",
       "    </tr>\n",
       "    <tr>\n",
       "      <th>(0.0478, 0.0565]</th>\n",
       "      <td>55</td>\n",
       "    </tr>\n",
       "    <tr>\n",
       "      <th>(0.024, 0.0287]</th>\n",
       "      <td>52</td>\n",
       "    </tr>\n",
       "    <tr>\n",
       "      <th>(0.08, 0.0958]</th>\n",
       "      <td>50</td>\n",
       "    </tr>\n",
       "    <tr>\n",
       "      <th>(0.0157, 0.0197]</th>\n",
       "      <td>48</td>\n",
       "    </tr>\n",
       "    <tr>\n",
       "      <th>(0.067, 0.08]</th>\n",
       "      <td>47</td>\n",
       "    </tr>\n",
       "    <tr>\n",
       "      <th>(0.0405, 0.0478]</th>\n",
       "      <td>39</td>\n",
       "    </tr>\n",
       "    <tr>\n",
       "      <th>(0.0117, 0.0157]</th>\n",
       "      <td>38</td>\n",
       "    </tr>\n",
       "    <tr>\n",
       "      <th>(0.0197, 0.024]</th>\n",
       "      <td>37</td>\n",
       "    </tr>\n",
       "    <tr>\n",
       "      <th>(-0.00075, 0.00775]</th>\n",
       "      <td>34</td>\n",
       "    </tr>\n",
       "    <tr>\n",
       "      <th>(0.00775, 0.0117]</th>\n",
       "      <td>33</td>\n",
       "    </tr>\n",
       "    <tr>\n",
       "      <th rowspan=\"20\" valign=\"top\">2</th>\n",
       "      <th>(0.067, 0.08]</th>\n",
       "      <td>71</td>\n",
       "    </tr>\n",
       "    <tr>\n",
       "      <th>(0.0565, 0.067]</th>\n",
       "      <td>69</td>\n",
       "    </tr>\n",
       "    <tr>\n",
       "      <th>(0.0958, 0.115]</th>\n",
       "      <td>69</td>\n",
       "    </tr>\n",
       "    <tr>\n",
       "      <th>(0.0405, 0.0478]</th>\n",
       "      <td>67</td>\n",
       "    </tr>\n",
       "    <tr>\n",
       "      <th>(0.222, 0.298]</th>\n",
       "      <td>67</td>\n",
       "    </tr>\n",
       "    <tr>\n",
       "      <th>(0.141, 0.174]</th>\n",
       "      <td>64</td>\n",
       "    </tr>\n",
       "    <tr>\n",
       "      <th>(0.447, 1.0]</th>\n",
       "      <td>63</td>\n",
       "    </tr>\n",
       "    <tr>\n",
       "      <th>(0.0342, 0.0405]</th>\n",
       "      <td>61</td>\n",
       "    </tr>\n",
       "    <tr>\n",
       "      <th>(0.08, 0.0958]</th>\n",
       "      <td>58</td>\n",
       "    </tr>\n",
       "    <tr>\n",
       "      <th>(0.0157, 0.0197]</th>\n",
       "      <td>57</td>\n",
       "    </tr>\n",
       "    <tr>\n",
       "      <th>(0.115, 0.141]</th>\n",
       "      <td>54</td>\n",
       "    </tr>\n",
       "    <tr>\n",
       "      <th>(0.174, 0.222]</th>\n",
       "      <td>54</td>\n",
       "    </tr>\n",
       "    <tr>\n",
       "      <th>(0.0478, 0.0565]</th>\n",
       "      <td>51</td>\n",
       "    </tr>\n",
       "    <tr>\n",
       "      <th>(0.024, 0.0287]</th>\n",
       "      <td>51</td>\n",
       "    </tr>\n",
       "    <tr>\n",
       "      <th>(0.0197, 0.024]</th>\n",
       "      <td>50</td>\n",
       "    </tr>\n",
       "    <tr>\n",
       "      <th>(0.0287, 0.0342]</th>\n",
       "      <td>49</td>\n",
       "    </tr>\n",
       "    <tr>\n",
       "      <th>(0.00775, 0.0117]</th>\n",
       "      <td>49</td>\n",
       "    </tr>\n",
       "    <tr>\n",
       "      <th>(0.0117, 0.0157]</th>\n",
       "      <td>47</td>\n",
       "    </tr>\n",
       "    <tr>\n",
       "      <th>(0.298, 0.447]</th>\n",
       "      <td>44</td>\n",
       "    </tr>\n",
       "    <tr>\n",
       "      <th>(-0.00075, 0.00775]</th>\n",
       "      <td>33</td>\n",
       "    </tr>\n",
       "  </tbody>\n",
       "</table>\n",
       "</div>"
      ],
      "text/plain": [
       "                             points_bin\n",
       "movieId                                \n",
       "1       (0.447, 1.0]                112\n",
       "        (0.222, 0.298]               78\n",
       "        (0.298, 0.447]               75\n",
       "        (0.174, 0.222]               71\n",
       "        (0.0958, 0.115]              69\n",
       "        (0.0565, 0.067]              62\n",
       "        (0.141, 0.174]               61\n",
       "        (0.0287, 0.0342]             56\n",
       "        (0.115, 0.141]               56\n",
       "        (0.0342, 0.0405]             55\n",
       "        (0.0478, 0.0565]             55\n",
       "        (0.024, 0.0287]              52\n",
       "        (0.08, 0.0958]               50\n",
       "        (0.0157, 0.0197]             48\n",
       "        (0.067, 0.08]                47\n",
       "        (0.0405, 0.0478]             39\n",
       "        (0.0117, 0.0157]             38\n",
       "        (0.0197, 0.024]              37\n",
       "        (-0.00075, 0.00775]          34\n",
       "        (0.00775, 0.0117]            33\n",
       "2       (0.067, 0.08]                71\n",
       "        (0.0565, 0.067]              69\n",
       "        (0.0958, 0.115]              69\n",
       "        (0.0405, 0.0478]             67\n",
       "        (0.222, 0.298]               67\n",
       "        (0.141, 0.174]               64\n",
       "        (0.447, 1.0]                 63\n",
       "        (0.0342, 0.0405]             61\n",
       "        (0.08, 0.0958]               58\n",
       "        (0.0157, 0.0197]             57\n",
       "        (0.115, 0.141]               54\n",
       "        (0.174, 0.222]               54\n",
       "        (0.0478, 0.0565]             51\n",
       "        (0.024, 0.0287]              51\n",
       "        (0.0197, 0.024]              50\n",
       "        (0.0287, 0.0342]             49\n",
       "        (0.00775, 0.0117]            49\n",
       "        (0.0117, 0.0157]             47\n",
       "        (0.298, 0.447]               44\n",
       "        (-0.00075, 0.00775]          33"
      ]
     },
     "execution_count": 18,
     "metadata": {},
     "output_type": "execute_result"
    }
   ],
   "source": [
    "agg_g_scores_df.head(40)"
   ]
  },
  {
   "cell_type": "code",
   "execution_count": 19,
   "metadata": {},
   "outputs": [
    {
     "data": {
      "text/plain": [
       "(614423, 4)"
      ]
     },
     "execution_count": 19,
     "metadata": {},
     "output_type": "execute_result"
    }
   ],
   "source": [
    "## Down from 15m to ~ 615,000\n",
    "g_scores_df_gt_5 = g_scores_df[g_scores_df['relevance'] > 0.5]\n",
    "g_scores_df_gt_5.shape"
   ]
  },
  {
   "cell_type": "code",
   "execution_count": 20,
   "metadata": {},
   "outputs": [
    {
     "data": {
      "text/html": [
       "<div>\n",
       "<style scoped>\n",
       "    .dataframe tbody tr th:only-of-type {\n",
       "        vertical-align: middle;\n",
       "    }\n",
       "\n",
       "    .dataframe tbody tr th {\n",
       "        vertical-align: top;\n",
       "    }\n",
       "\n",
       "    .dataframe thead th {\n",
       "        text-align: right;\n",
       "    }\n",
       "</style>\n",
       "<table border=\"1\" class=\"dataframe\">\n",
       "  <thead>\n",
       "    <tr style=\"text-align: right;\">\n",
       "      <th></th>\n",
       "      <th>movieId</th>\n",
       "      <th>tagId</th>\n",
       "      <th>relevance</th>\n",
       "      <th>points_bin</th>\n",
       "    </tr>\n",
       "  </thead>\n",
       "  <tbody>\n",
       "    <tr>\n",
       "      <th>10</th>\n",
       "      <td>1</td>\n",
       "      <td>11</td>\n",
       "      <td>0.58025</td>\n",
       "      <td>(0.447, 1.0]</td>\n",
       "    </tr>\n",
       "    <tr>\n",
       "      <th>18</th>\n",
       "      <td>1</td>\n",
       "      <td>19</td>\n",
       "      <td>0.66250</td>\n",
       "      <td>(0.447, 1.0]</td>\n",
       "    </tr>\n",
       "    <tr>\n",
       "      <th>28</th>\n",
       "      <td>1</td>\n",
       "      <td>29</td>\n",
       "      <td>0.89375</td>\n",
       "      <td>(0.447, 1.0]</td>\n",
       "    </tr>\n",
       "    <tr>\n",
       "      <th>29</th>\n",
       "      <td>1</td>\n",
       "      <td>30</td>\n",
       "      <td>0.67625</td>\n",
       "      <td>(0.447, 1.0]</td>\n",
       "    </tr>\n",
       "    <tr>\n",
       "      <th>60</th>\n",
       "      <td>1</td>\n",
       "      <td>61</td>\n",
       "      <td>0.61750</td>\n",
       "      <td>(0.447, 1.0]</td>\n",
       "    </tr>\n",
       "  </tbody>\n",
       "</table>\n",
       "</div>"
      ],
      "text/plain": [
       "    movieId  tagId  relevance    points_bin\n",
       "10        1     11    0.58025  (0.447, 1.0]\n",
       "18        1     19    0.66250  (0.447, 1.0]\n",
       "28        1     29    0.89375  (0.447, 1.0]\n",
       "29        1     30    0.67625  (0.447, 1.0]\n",
       "60        1     61    0.61750  (0.447, 1.0]"
      ]
     },
     "execution_count": 20,
     "metadata": {},
     "output_type": "execute_result"
    }
   ],
   "source": [
    "g_scores_df_gt_5.groupby('movieId')['relevance'].value_counts().to_frame()\n",
    "g_scores_df_gt_5.head()"
   ]
  },
  {
   "cell_type": "code",
   "execution_count": 21,
   "metadata": {},
   "outputs": [
    {
     "data": {
      "text/plain": [
       "<AxesSubplot:ylabel='Frequency'>"
      ]
     },
     "execution_count": 21,
     "metadata": {},
     "output_type": "execute_result"
    },
    {
     "data": {
      "image/png": "[encoded data removed]",
      "text/plain": [
       "<Figure size 640x480 with 1 Axes>"
      ]
     },
     "metadata": {},
     "output_type": "display_data"
    }
   ],
   "source": [
    "g_scores_df_gt_5.groupby('movieId')['movieId'].count().plot(kind='hist')"
   ]
  },
  {
   "cell_type": "code",
   "execution_count": 22,
   "metadata": {},
   "outputs": [
    {
     "data": {
      "text/plain": [
       "count    13816.000000\n",
       "mean        44.471844\n",
       "std         27.937181\n",
       "min          1.000000\n",
       "25%         25.000000\n",
       "50%         37.000000\n",
       "75%         57.000000\n",
       "max        305.000000\n",
       "Name: movieId, dtype: float64"
      ]
     },
     "execution_count": 22,
     "metadata": {},
     "output_type": "execute_result"
    }
   ],
   "source": [
    "## This tell us that every movie has at least one tag, most have more than 25. \n",
    "g_scores_df_gt_5.groupby('movieId')['movieId'].count().describe()"
   ]
  },
  {
   "cell_type": "markdown",
   "metadata": {},
   "source": [
    "From this we choose to set the threshold for the tag reference to 0.5. In this, we still enrich the information that we have but we will need to keep an eye on this throughout the analysis, revisiting and adjusting the threshold if needed. "
   ]
  },
  {
   "cell_type": "markdown",
   "metadata": {},
   "source": [
    "## Aggregate Movie Data"
   ]
  },
  {
   "cell_type": "code",
   "execution_count": 23,
   "metadata": {},
   "outputs": [],
   "source": [
    "sample_ratings_df = ratings_df.sample(20000)"
   ]
  },
  {
   "cell_type": "code",
   "execution_count": 24,
   "metadata": {},
   "outputs": [],
   "source": [
    "from datetime import datetime\n",
    "sample_ratings_df['date'] = sample_ratings_df.timestamp.apply(lambda x: datetime.fromtimestamp(x).strftime('%m-%y'))"
   ]
  },
  {
   "cell_type": "code",
   "execution_count": 25,
   "metadata": {},
   "outputs": [],
   "source": [
    "vote_counts = ratings_df.pivot_table(columns=['movieId'], aggfunc='size')\n",
    "sample_ratings_df['votes'] = sample_ratings_df.movieId.apply(lambda x: vote_counts.loc[x])"
   ]
  },
  {
   "cell_type": "code",
   "execution_count": 26,
   "metadata": {},
   "outputs": [
    {
     "name": "stderr",
     "output_type": "stream",
     "text": [
      "/tmp/ipykernel_4747/442709438.py:1: FutureWarning: Indexing with multiple keys (implicitly converted to a tuple of keys) will be deprecated, use a list instead.\n",
      "  rolling_rating = sample_ratings_df.groupby('movieId')['rating', 'votes', 'date'].rolling(3).mean()\n",
      "/tmp/ipykernel_4747/442709438.py:1: FutureWarning: Dropping of nuisance columns in rolling operations is deprecated; in a future version this will raise TypeError. Select only valid columns before calling the operation. Dropped columns were Index(['date'], dtype='object')\n",
      "  rolling_rating = sample_ratings_df.groupby('movieId')['rating', 'votes', 'date'].rolling(3).mean()\n"
     ]
    },
    {
     "data": {
      "text/plain": [
       "<bound method NDFrame.head of                     rating    votes\n",
       "movieId                            \n",
       "1       20090662       NaN      NaN\n",
       "        9148179        NaN      NaN\n",
       "        16911785  2.833333  57309.0\n",
       "        12478151  3.166667  57309.0\n",
       "        24314104  3.833333  57309.0\n",
       "...                    ...      ...\n",
       "201588  22431201       NaN      NaN\n",
       "202429  19504278       NaN      NaN\n",
       "        24140361       NaN      NaN\n",
       "202836  11150896       NaN      NaN\n",
       "205383  14662142       NaN      NaN\n",
       "\n",
       "[20000 rows x 2 columns]>"
      ]
     },
     "execution_count": 26,
     "metadata": {},
     "output_type": "execute_result"
    }
   ],
   "source": [
    "rolling_rating = sample_ratings_df.groupby('movieId')['rating', 'votes', 'date'].rolling(3).mean()\n",
    "rolling_rating.head"
   ]
  },
  {
   "cell_type": "code",
   "execution_count": 27,
   "metadata": {},
   "outputs": [
    {
     "data": {
      "text/html": [
       "<div>\n",
       "<style scoped>\n",
       "    .dataframe tbody tr th:only-of-type {\n",
       "        vertical-align: middle;\n",
       "    }\n",
       "\n",
       "    .dataframe tbody tr th {\n",
       "        vertical-align: top;\n",
       "    }\n",
       "\n",
       "    .dataframe thead th {\n",
       "        text-align: right;\n",
       "    }\n",
       "</style>\n",
       "<table border=\"1\" class=\"dataframe\">\n",
       "  <thead>\n",
       "    <tr style=\"text-align: right;\">\n",
       "      <th></th>\n",
       "      <th>userId</th>\n",
       "      <th>movieId</th>\n",
       "      <th>rating</th>\n",
       "      <th>timestamp</th>\n",
       "    </tr>\n",
       "  </thead>\n",
       "  <tbody>\n",
       "    <tr>\n",
       "      <th>0</th>\n",
       "      <td>1</td>\n",
       "      <td>296</td>\n",
       "      <td>5.0</td>\n",
       "      <td>1147880044</td>\n",
       "    </tr>\n",
       "    <tr>\n",
       "      <th>1</th>\n",
       "      <td>1</td>\n",
       "      <td>306</td>\n",
       "      <td>3.5</td>\n",
       "      <td>1147868817</td>\n",
       "    </tr>\n",
       "    <tr>\n",
       "      <th>2</th>\n",
       "      <td>1</td>\n",
       "      <td>307</td>\n",
       "      <td>5.0</td>\n",
       "      <td>1147868828</td>\n",
       "    </tr>\n",
       "    <tr>\n",
       "      <th>3</th>\n",
       "      <td>1</td>\n",
       "      <td>665</td>\n",
       "      <td>5.0</td>\n",
       "      <td>1147878820</td>\n",
       "    </tr>\n",
       "    <tr>\n",
       "      <th>4</th>\n",
       "      <td>1</td>\n",
       "      <td>899</td>\n",
       "      <td>3.5</td>\n",
       "      <td>1147868510</td>\n",
       "    </tr>\n",
       "  </tbody>\n",
       "</table>\n",
       "</div>"
      ],
      "text/plain": [
       "   userId  movieId  rating   timestamp\n",
       "0       1      296     5.0  1147880044\n",
       "1       1      306     3.5  1147868817\n",
       "2       1      307     5.0  1147868828\n",
       "3       1      665     5.0  1147878820\n",
       "4       1      899     3.5  1147868510"
      ]
     },
     "execution_count": 27,
     "metadata": {},
     "output_type": "execute_result"
    }
   ],
   "source": [
    "movie_dataframe = ratings_df.copy()\n",
    "movie_dataframe.head()"
   ]
  },
  {
   "cell_type": "code",
   "execution_count": 40,
   "metadata": {},
   "outputs": [
    {
     "data": {
      "text/plain": [
       "movieId\n",
       "1    57309\n",
       "2    24228\n",
       "3    11804\n",
       "4     2523\n",
       "5    11714\n",
       "dtype: int64"
      ]
     },
     "execution_count": 40,
     "metadata": {},
     "output_type": "execute_result"
    }
   ],
   "source": [
    "vote_counts = ratings_df.pivot_table(columns=['movieId'], aggfunc='size')\n",
    "vote_counts.head()"
   ]
  },
  {
   "cell_type": "code",
   "execution_count": 47,
   "metadata": {},
   "outputs": [
    {
     "data": {
      "text/plain": [
       "movieId\n",
       "1    3.893708\n",
       "2    3.251527\n",
       "3    3.142028\n",
       "4    2.853547\n",
       "5    3.058434\n",
       "Name: rating, dtype: float64"
      ]
     },
     "execution_count": 47,
     "metadata": {},
     "output_type": "execute_result"
    }
   ],
   "source": [
    "movie_ratings = movie_dataframe.groupby('movieId')['rating'].mean()\n",
    "movie_ratings.head()"
   ]
  },
  {
   "cell_type": "code",
   "execution_count": 53,
   "metadata": {},
   "outputs": [
    {
     "data": {
      "text/html": [
       "<div>\n",
       "<style scoped>\n",
       "    .dataframe tbody tr th:only-of-type {\n",
       "        vertical-align: middle;\n",
       "    }\n",
       "\n",
       "    .dataframe tbody tr th {\n",
       "        vertical-align: top;\n",
       "    }\n",
       "\n",
       "    .dataframe thead th {\n",
       "        text-align: right;\n",
       "    }\n",
       "</style>\n",
       "<table border=\"1\" class=\"dataframe\">\n",
       "  <thead>\n",
       "    <tr style=\"text-align: right;\">\n",
       "      <th></th>\n",
       "      <th>movieId</th>\n",
       "      <th>rating</th>\n",
       "      <th>votes</th>\n",
       "    </tr>\n",
       "  </thead>\n",
       "  <tbody>\n",
       "    <tr>\n",
       "      <th>0</th>\n",
       "      <td>1</td>\n",
       "      <td>3.893708</td>\n",
       "      <td>57309</td>\n",
       "    </tr>\n",
       "    <tr>\n",
       "      <th>1</th>\n",
       "      <td>2</td>\n",
       "      <td>3.251527</td>\n",
       "      <td>24228</td>\n",
       "    </tr>\n",
       "    <tr>\n",
       "      <th>2</th>\n",
       "      <td>3</td>\n",
       "      <td>3.142028</td>\n",
       "      <td>11804</td>\n",
       "    </tr>\n",
       "    <tr>\n",
       "      <th>3</th>\n",
       "      <td>4</td>\n",
       "      <td>2.853547</td>\n",
       "      <td>2523</td>\n",
       "    </tr>\n",
       "    <tr>\n",
       "      <th>4</th>\n",
       "      <td>5</td>\n",
       "      <td>3.058434</td>\n",
       "      <td>11714</td>\n",
       "    </tr>\n",
       "  </tbody>\n",
       "</table>\n",
       "</div>"
      ],
      "text/plain": [
       "   movieId    rating  votes\n",
       "0        1  3.893708  57309\n",
       "1        2  3.251527  24228\n",
       "2        3  3.142028  11804\n",
       "3        4  2.853547   2523\n",
       "4        5  3.058434  11714"
      ]
     },
     "execution_count": 53,
     "metadata": {},
     "output_type": "execute_result"
    }
   ],
   "source": [
    "movie_data_grouped = pd.concat([movie_ratings, vote_counts], axis=1).reset_index()\n",
    "movie_data_grouped.rename(columns = {0:\"votes\"}, inplace=True)\n",
    "movie_data_grouped.head()"
   ]
  },
  {
   "cell_type": "code",
   "execution_count": 61,
   "metadata": {},
   "outputs": [
    {
     "name": "stdout",
     "output_type": "stream",
     "text": [
      "1 81491\n"
     ]
    },
    {
     "data": {
      "image/png": "[encoded data removed]",
      "text/plain": [
       "<Figure size 640x480 with 1 Axes>"
      ]
     },
     "metadata": {},
     "output_type": "display_data"
    }
   ],
   "source": [
    "movie_data_grouped['votes'].plot(kind='hist')\n",
    "print(min(movie_data_grouped['votes']), max(movie_data_grouped['votes']))"
   ]
  },
  {
   "cell_type": "code",
   "execution_count": 68,
   "metadata": {},
   "outputs": [
    {
     "name": "stdout",
     "output_type": "stream",
     "text": [
      "1 81491\n"
     ]
    },
    {
     "data": {
      "text/plain": [
       "(0.0, 2000.0)"
      ]
     },
     "execution_count": 68,
     "metadata": {},
     "output_type": "execute_result"
    },
    {
     "data": {
      "image/png": "[encoded data removed]",
      "text/plain": [
       "<Figure size 640x480 with 1 Axes>"
      ]
     },
     "metadata": {},
     "output_type": "display_data"
    }
   ],
   "source": [
    "import matplotlib.pyplot as plt\n",
    "movie_data_grouped['votes'].plot(kind='hist', bins=500)\n",
    "print(min(movie_data_grouped['votes']), max(movie_data_grouped['votes']))\n",
    "plt.xlim(0, 2000)"
   ]
  },
  {
   "cell_type": "code",
   "execution_count": 69,
   "metadata": {},
   "outputs": [
    {
     "data": {
      "text/plain": [
       "count    59047.000000\n",
       "mean       423.393144\n",
       "std       2477.885821\n",
       "min          1.000000\n",
       "25%          2.000000\n",
       "50%          6.000000\n",
       "75%         36.000000\n",
       "max      81491.000000\n",
       "Name: votes, dtype: float64"
      ]
     },
     "execution_count": 69,
     "metadata": {},
     "output_type": "execute_result"
    }
   ],
   "source": [
    "movie_data_grouped['votes'].describe()"
   ]
  },
  {
   "cell_type": "markdown",
   "metadata": {},
   "source": [
    "Though the mean number of votes is 423, this is driven by a small proportion of popular movies. Let's use the 3rd IQR as our limit. We don't want to include all movies but we also don't want to exclude new movies / movies that might be of interest despite popularity. \n",
    "\n",
    "The following formula is the IMDB suggested weighting for movies. "
   ]
  },
  {
   "cell_type": "code",
   "execution_count": 72,
   "metadata": {},
   "outputs": [],
   "source": [
    "def weighted_rating(x, m, C):\n",
    "    v = x['votes']\n",
    "    R = x['rating']\n",
    "    ## Penalises movie ratings that do not have as many votes\n",
    "    ## Gives a proporionate amount of average rating back\n",
    "    return (v/(v+m) * R) + (m/(m+v) * C)"
   ]
  },
  {
   "cell_type": "markdown",
   "metadata": {},
   "source": [
    "Is this representative?\n",
    "- It penalises highly rated movies that have lower number of votes - this is to factor in a level of confidence - the less votes, the less general consensus we have about a movei - but wait, not everyone likes the same movies -- which should factor this in.\n",
    "- It gives more weighting to lowly rated movies with lower number of votes.\n",
    "\n",
    "Threshold amount is 50, average vote is 5.\n",
    "\n",
    "| | 1 | 2 | 3 | 4 |\n",
    "|--|--|--|--|--|\n",
    "| Votes | 70 | 70 | 2000 | 2000 |\n",
    "| Avg rating from users | 8 | 4 | 8 | 4 |\n",
    "| Weighted rating | 6.75 | 4.42 | 7.93 | 4.0244 |\n",
    "\n",
    "From this, we can see that lower ratings are bumped up while higher ratings are penalised.\n",
    "\n"
   ]
  },
  {
   "cell_type": "code",
   "execution_count": 83,
   "metadata": {},
   "outputs": [],
   "source": [
    "def try_this(m, v, R, C):\n",
    "    w_user_rating = v/(v+m) * R\n",
    "    w_avg_rating = m/(m+v) * C\n",
    "    print(w_user_rating+w_avg_rating)"
   ]
  },
  {
   "cell_type": "code",
   "execution_count": 84,
   "metadata": {},
   "outputs": [
    {
     "name": "stdout",
     "output_type": "stream",
     "text": [
      "6.75\n",
      "4.416666666666667\n",
      "7.926829268292683\n",
      "4.024390243902439\n"
     ]
    }
   ],
   "source": [
    "try_this(50, 70, 8, 5)\n",
    "try_this(50, 70, 4, 5)\n",
    "try_this(50, 2000, 8, 5)\n",
    "try_this(50, 2000, 4, 5)"
   ]
  },
  {
   "cell_type": "code",
   "execution_count": 93,
   "metadata": {},
   "outputs": [
    {
     "name": "stdout",
     "output_type": "stream",
     "text": [
      "3.0713739209511313\n"
     ]
    }
   ],
   "source": [
    "min_votes = 36\n",
    "mean_rating = movie_data_grouped['rating'].mean()\n",
    "print(mean_rating)"
   ]
  },
  {
   "cell_type": "code",
   "execution_count": 94,
   "metadata": {},
   "outputs": [
    {
     "data": {
      "text/html": [
       "<div>\n",
       "<style scoped>\n",
       "    .dataframe tbody tr th:only-of-type {\n",
       "        vertical-align: middle;\n",
       "    }\n",
       "\n",
       "    .dataframe tbody tr th {\n",
       "        vertical-align: top;\n",
       "    }\n",
       "\n",
       "    .dataframe thead th {\n",
       "        text-align: right;\n",
       "    }\n",
       "</style>\n",
       "<table border=\"1\" class=\"dataframe\">\n",
       "  <thead>\n",
       "    <tr style=\"text-align: right;\">\n",
       "      <th></th>\n",
       "      <th>movieId</th>\n",
       "      <th>rating</th>\n",
       "      <th>votes</th>\n",
       "      <th>weighted_rating</th>\n",
       "      <th>diff</th>\n",
       "    </tr>\n",
       "  </thead>\n",
       "  <tbody>\n",
       "    <tr>\n",
       "      <th>59027</th>\n",
       "      <td>209121</td>\n",
       "      <td>4.00</td>\n",
       "      <td>1</td>\n",
       "      <td>3.096472</td>\n",
       "      <td>0.926310</td>\n",
       "    </tr>\n",
       "    <tr>\n",
       "      <th>59028</th>\n",
       "      <td>209123</td>\n",
       "      <td>4.00</td>\n",
       "      <td>1</td>\n",
       "      <td>3.096472</td>\n",
       "      <td>0.926310</td>\n",
       "    </tr>\n",
       "    <tr>\n",
       "      <th>59029</th>\n",
       "      <td>209129</td>\n",
       "      <td>4.50</td>\n",
       "      <td>1</td>\n",
       "      <td>3.109985</td>\n",
       "      <td>1.425063</td>\n",
       "    </tr>\n",
       "    <tr>\n",
       "      <th>59030</th>\n",
       "      <td>209131</td>\n",
       "      <td>3.50</td>\n",
       "      <td>1</td>\n",
       "      <td>3.082958</td>\n",
       "      <td>0.427557</td>\n",
       "    </tr>\n",
       "    <tr>\n",
       "      <th>59031</th>\n",
       "      <td>209133</td>\n",
       "      <td>2.50</td>\n",
       "      <td>2</td>\n",
       "      <td>3.041302</td>\n",
       "      <td>-0.568531</td>\n",
       "    </tr>\n",
       "    <tr>\n",
       "      <th>59032</th>\n",
       "      <td>209135</td>\n",
       "      <td>2.25</td>\n",
       "      <td>2</td>\n",
       "      <td>3.028144</td>\n",
       "      <td>-0.817287</td>\n",
       "    </tr>\n",
       "    <tr>\n",
       "      <th>59033</th>\n",
       "      <td>209137</td>\n",
       "      <td>0.50</td>\n",
       "      <td>1</td>\n",
       "      <td>3.001877</td>\n",
       "      <td>-2.564962</td>\n",
       "    </tr>\n",
       "    <tr>\n",
       "      <th>59034</th>\n",
       "      <td>209139</td>\n",
       "      <td>1.00</td>\n",
       "      <td>1</td>\n",
       "      <td>3.015391</td>\n",
       "      <td>-2.066208</td>\n",
       "    </tr>\n",
       "    <tr>\n",
       "      <th>59035</th>\n",
       "      <td>209141</td>\n",
       "      <td>1.00</td>\n",
       "      <td>1</td>\n",
       "      <td>3.015391</td>\n",
       "      <td>-2.066208</td>\n",
       "    </tr>\n",
       "    <tr>\n",
       "      <th>59036</th>\n",
       "      <td>209143</td>\n",
       "      <td>1.00</td>\n",
       "      <td>1</td>\n",
       "      <td>3.015391</td>\n",
       "      <td>-2.066208</td>\n",
       "    </tr>\n",
       "    <tr>\n",
       "      <th>59037</th>\n",
       "      <td>209145</td>\n",
       "      <td>1.00</td>\n",
       "      <td>1</td>\n",
       "      <td>3.015391</td>\n",
       "      <td>-2.066208</td>\n",
       "    </tr>\n",
       "    <tr>\n",
       "      <th>59038</th>\n",
       "      <td>209147</td>\n",
       "      <td>2.25</td>\n",
       "      <td>2</td>\n",
       "      <td>3.028144</td>\n",
       "      <td>-0.817287</td>\n",
       "    </tr>\n",
       "    <tr>\n",
       "      <th>59039</th>\n",
       "      <td>209151</td>\n",
       "      <td>3.50</td>\n",
       "      <td>1</td>\n",
       "      <td>3.082958</td>\n",
       "      <td>0.427557</td>\n",
       "    </tr>\n",
       "    <tr>\n",
       "      <th>59040</th>\n",
       "      <td>209153</td>\n",
       "      <td>2.50</td>\n",
       "      <td>1</td>\n",
       "      <td>3.055931</td>\n",
       "      <td>-0.569949</td>\n",
       "    </tr>\n",
       "    <tr>\n",
       "      <th>59041</th>\n",
       "      <td>209155</td>\n",
       "      <td>5.00</td>\n",
       "      <td>1</td>\n",
       "      <td>3.123499</td>\n",
       "      <td>1.923817</td>\n",
       "    </tr>\n",
       "    <tr>\n",
       "      <th>59042</th>\n",
       "      <td>209157</td>\n",
       "      <td>1.50</td>\n",
       "      <td>1</td>\n",
       "      <td>3.028904</td>\n",
       "      <td>-1.567455</td>\n",
       "    </tr>\n",
       "    <tr>\n",
       "      <th>59043</th>\n",
       "      <td>209159</td>\n",
       "      <td>3.00</td>\n",
       "      <td>1</td>\n",
       "      <td>3.069445</td>\n",
       "      <td>-0.071196</td>\n",
       "    </tr>\n",
       "    <tr>\n",
       "      <th>59044</th>\n",
       "      <td>209163</td>\n",
       "      <td>4.50</td>\n",
       "      <td>1</td>\n",
       "      <td>3.109985</td>\n",
       "      <td>1.425063</td>\n",
       "    </tr>\n",
       "    <tr>\n",
       "      <th>59045</th>\n",
       "      <td>209169</td>\n",
       "      <td>3.00</td>\n",
       "      <td>1</td>\n",
       "      <td>3.069445</td>\n",
       "      <td>-0.071196</td>\n",
       "    </tr>\n",
       "    <tr>\n",
       "      <th>59046</th>\n",
       "      <td>209171</td>\n",
       "      <td>3.00</td>\n",
       "      <td>1</td>\n",
       "      <td>3.069445</td>\n",
       "      <td>-0.071196</td>\n",
       "    </tr>\n",
       "  </tbody>\n",
       "</table>\n",
       "</div>"
      ],
      "text/plain": [
       "       movieId  rating  votes  weighted_rating      diff\n",
       "59027   209121    4.00      1         3.096472  0.926310\n",
       "59028   209123    4.00      1         3.096472  0.926310\n",
       "59029   209129    4.50      1         3.109985  1.425063\n",
       "59030   209131    3.50      1         3.082958  0.427557\n",
       "59031   209133    2.50      2         3.041302 -0.568531\n",
       "59032   209135    2.25      2         3.028144 -0.817287\n",
       "59033   209137    0.50      1         3.001877 -2.564962\n",
       "59034   209139    1.00      1         3.015391 -2.066208\n",
       "59035   209141    1.00      1         3.015391 -2.066208\n",
       "59036   209143    1.00      1         3.015391 -2.066208\n",
       "59037   209145    1.00      1         3.015391 -2.066208\n",
       "59038   209147    2.25      2         3.028144 -0.817287\n",
       "59039   209151    3.50      1         3.082958  0.427557\n",
       "59040   209153    2.50      1         3.055931 -0.569949\n",
       "59041   209155    5.00      1         3.123499  1.923817\n",
       "59042   209157    1.50      1         3.028904 -1.567455\n",
       "59043   209159    3.00      1         3.069445 -0.071196\n",
       "59044   209163    4.50      1         3.109985  1.425063\n",
       "59045   209169    3.00      1         3.069445 -0.071196\n",
       "59046   209171    3.00      1         3.069445 -0.071196"
      ]
     },
     "execution_count": 94,
     "metadata": {},
     "output_type": "execute_result"
    }
   ],
   "source": [
    "movie_data_grouped['weighted_rating'] = weighted_rating(movie_data_grouped, min_votes, mean_rating)\n",
    "movie_data_grouped.tail(20)"
   ]
  },
  {
   "cell_type": "code",
   "execution_count": 95,
   "metadata": {},
   "outputs": [],
   "source": [
    "movie_data_grouped['diff'] = movie_data_grouped.apply(lambda x: x.rating - x.weighted_rating, axis=1)"
   ]
  },
  {
   "cell_type": "markdown",
   "metadata": {},
   "source": [
    "From the plot below, we can see a visualisation of this. The point of equilibrium being around 3 which is our average rating. The further we get away from our average, the more the ratings divert from their original rating. We are not seeing the same phenomenon that has previously been described here though, instead we are seeing that low rated movies are further penalised while higher rated moves have their rating inflated."
   ]
  },
  {
   "cell_type": "code",
   "execution_count": 96,
   "metadata": {},
   "outputs": [
    {
     "data": {
      "text/plain": [
       "<AxesSubplot:xlabel='rating', ylabel='diff'>"
      ]
     },
     "execution_count": 96,
     "metadata": {},
     "output_type": "execute_result"
    },
    {
     "data": {
      "image/png": "[encoded data removed]",
      "text/plain": [
       "<Figure size 640x480 with 2 Axes>"
      ]
     },
     "metadata": {},
     "output_type": "display_data"
    }
   ],
   "source": [
    "movie_data_grouped.plot.scatter(x='rating', y='diff', c='votes', colormap='viridis')"
   ]
  },
  {
   "cell_type": "code",
   "execution_count": null,
   "metadata": {},
   "outputs": [],
   "source": []
  }
 ],
 "metadata": {
  "kernelspec": {
   "display_name": "Python 3.8.10 ('.recommender_system': venv)",
   "language": "python",
   "name": "python3"
  },
  "language_info": {
   "codemirror_mode": {
    "name": "ipython",
    "version": 3
   },
   "file_extension": ".py",
   "mimetype": "text/x-python",
   "name": "python",
   "nbconvert_exporter": "python",
   "pygments_lexer": "ipython3",
   "version": "3.8.10"
  },
  "orig_nbformat": 4,
  "vscode": {
   "interpreter": {
    "hash": "38b4edab5521cf0dbb78c9a523448e794a6fb4f404cbea5398d66cef19a9b035"
   }
  }
 },
 "nbformat": 4,
 "nbformat_minor": 2
}
