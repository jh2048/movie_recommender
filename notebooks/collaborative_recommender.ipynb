{
 "cells": [
  {
   "cell_type": "code",
   "execution_count": 1,
   "metadata": {},
   "outputs": [],
   "source": [
    "import pandas as pd"
   ]
  },
  {
   "cell_type": "markdown",
   "metadata": {},
   "source": [
    "Refer to [link](https://files.grouplens.org/datasets/movielens/ml-25m-README.html) for more information about this open source dataset."
   ]
  },
  {
   "cell_type": "code",
   "execution_count": 2,
   "metadata": {},
   "outputs": [],
   "source": [
    "g_scores_df = pd.read_csv('../data/genome-scores.csv')\n",
    "g_tags_df = pd.read_csv('../data/genome-tags.csv')\n",
    "links_df = pd.read_csv('../data/links.csv')\n",
    "ratings_df = pd.read_csv('../data/ratings.csv')\n",
    "tags_df = pd.read_csv('../data/tags.csv')\n",
    "movies_df = pd.read_csv('../data/movies.csv')"
   ]
  },
  {
   "cell_type": "markdown",
   "metadata": {},
   "source": [
    "# What are we doing?\n",
    "First thing that we need to do is to prepare the data. So what do we need?\n",
    "We have a lot of information here so let's go dataset by dataset\n",
    "\n",
    "- __Genome-scores__: We get relevance for tags from this and this will allow us to reduce the number of tags associated with each movie. So what does high / low relevance mean? Where should we place our threshold?\n",
    "- __g_tags_df__: This is a bridging table and will allow us to (1) provie a more human readable output for out system and (2) can be used with NLP techniques (Content-based)\n",
    "- __links_df__: Another bridging table that will allow us to easily(?) merge our enrichment set. (Content-based?)\n",
    "- __ratings_df__: The crux and meat of our data. (1) What ratings are we seeing? How do the distributions look? (sample) (2) How does the time of events for watching movies look? Should we include movies from users which were watched 1 year apart? How taste changed so much by that point? Can we test this?\n",
    "- __tags_df__: Allows us to include more information about a movie. (Content-based)\n",
    "- __movies_df__: (1) Add genres (Content-based)\n",
    "\n",
    "Additionally - We should probably include a general genre trend e.g. Seasonal (Romance towards Christmas), Blockbusters (Action, Comedy)\n"
   ]
  },
  {
   "cell_type": "markdown",
   "metadata": {},
   "source": [
    "## Tag Relevance Scores"
   ]
  },
  {
   "cell_type": "code",
   "execution_count": 3,
   "metadata": {},
   "outputs": [
    {
     "data": {
      "text/html": [
       "<div>\n",
       "<style scoped>\n",
       "    .dataframe tbody tr th:only-of-type {\n",
       "        vertical-align: middle;\n",
       "    }\n",
       "\n",
       "    .dataframe tbody tr th {\n",
       "        vertical-align: top;\n",
       "    }\n",
       "\n",
       "    .dataframe thead th {\n",
       "        text-align: right;\n",
       "    }\n",
       "</style>\n",
       "<table border=\"1\" class=\"dataframe\">\n",
       "  <thead>\n",
       "    <tr style=\"text-align: right;\">\n",
       "      <th></th>\n",
       "      <th>movieId</th>\n",
       "      <th>tagId</th>\n",
       "      <th>relevance</th>\n",
       "    </tr>\n",
       "  </thead>\n",
       "  <tbody>\n",
       "    <tr>\n",
       "      <th>0</th>\n",
       "      <td>1</td>\n",
       "      <td>1</td>\n",
       "      <td>0.02875</td>\n",
       "    </tr>\n",
       "    <tr>\n",
       "      <th>1</th>\n",
       "      <td>1</td>\n",
       "      <td>2</td>\n",
       "      <td>0.02375</td>\n",
       "    </tr>\n",
       "    <tr>\n",
       "      <th>2</th>\n",
       "      <td>1</td>\n",
       "      <td>3</td>\n",
       "      <td>0.06250</td>\n",
       "    </tr>\n",
       "    <tr>\n",
       "      <th>3</th>\n",
       "      <td>1</td>\n",
       "      <td>4</td>\n",
       "      <td>0.07575</td>\n",
       "    </tr>\n",
       "    <tr>\n",
       "      <th>4</th>\n",
       "      <td>1</td>\n",
       "      <td>5</td>\n",
       "      <td>0.14075</td>\n",
       "    </tr>\n",
       "  </tbody>\n",
       "</table>\n",
       "</div>"
      ],
      "text/plain": [
       "   movieId  tagId  relevance\n",
       "0        1      1    0.02875\n",
       "1        1      2    0.02375\n",
       "2        1      3    0.06250\n",
       "3        1      4    0.07575\n",
       "4        1      5    0.14075"
      ]
     },
     "execution_count": 3,
     "metadata": {},
     "output_type": "execute_result"
    }
   ],
   "source": [
    "g_scores_df.head()"
   ]
  },
  {
   "cell_type": "markdown",
   "metadata": {},
   "source": [
    "### What is the distribution?\n",
    "How have relevance scores been scored? Manual or is this frequency based?"
   ]
  },
  {
   "cell_type": "code",
   "execution_count": 4,
   "metadata": {},
   "outputs": [
    {
     "data": {
      "text/plain": [
       "<AxesSubplot:ylabel='Frequency'>"
      ]
     },
     "execution_count": 4,
     "metadata": {},
     "output_type": "execute_result"
    },
    {
     "data": {
      "image/png": "[encoded data removed]",
      "text/plain": [
       "<Figure size 640x480 with 1 Axes>"
      ]
     },
     "metadata": {},
     "output_type": "display_data"
    }
   ],
   "source": [
    "g_scores_df['relevance'].plot(kind='hist')"
   ]
  },
  {
   "cell_type": "code",
   "execution_count": 5,
   "metadata": {},
   "outputs": [
    {
     "data": {
      "text/html": [
       "<div>\n",
       "<style scoped>\n",
       "    .dataframe tbody tr th:only-of-type {\n",
       "        vertical-align: middle;\n",
       "    }\n",
       "\n",
       "    .dataframe tbody tr th {\n",
       "        vertical-align: top;\n",
       "    }\n",
       "\n",
       "    .dataframe thead th {\n",
       "        text-align: right;\n",
       "    }\n",
       "</style>\n",
       "<table border=\"1\" class=\"dataframe\">\n",
       "  <thead>\n",
       "    <tr style=\"text-align: right;\">\n",
       "      <th></th>\n",
       "      <th>movieId</th>\n",
       "      <th>tagId</th>\n",
       "      <th>relevance</th>\n",
       "    </tr>\n",
       "  </thead>\n",
       "  <tbody>\n",
       "    <tr>\n",
       "      <th>count</th>\n",
       "      <td>6591.000000</td>\n",
       "      <td>6591.000000</td>\n",
       "      <td>6591.000000</td>\n",
       "    </tr>\n",
       "    <tr>\n",
       "      <th>mean</th>\n",
       "      <td>38405.554696</td>\n",
       "      <td>611.644970</td>\n",
       "      <td>0.994968</td>\n",
       "    </tr>\n",
       "    <tr>\n",
       "      <th>std</th>\n",
       "      <td>47084.649253</td>\n",
       "      <td>333.235151</td>\n",
       "      <td>0.002845</td>\n",
       "    </tr>\n",
       "    <tr>\n",
       "      <th>min</th>\n",
       "      <td>1.000000</td>\n",
       "      <td>1.000000</td>\n",
       "      <td>0.990250</td>\n",
       "    </tr>\n",
       "    <tr>\n",
       "      <th>25%</th>\n",
       "      <td>3435.000000</td>\n",
       "      <td>334.500000</td>\n",
       "      <td>0.992500</td>\n",
       "    </tr>\n",
       "    <tr>\n",
       "      <th>50%</th>\n",
       "      <td>7454.000000</td>\n",
       "      <td>631.000000</td>\n",
       "      <td>0.995000</td>\n",
       "    </tr>\n",
       "    <tr>\n",
       "      <th>75%</th>\n",
       "      <td>66253.500000</td>\n",
       "      <td>927.000000</td>\n",
       "      <td>0.997250</td>\n",
       "    </tr>\n",
       "    <tr>\n",
       "      <th>max</th>\n",
       "      <td>180737.000000</td>\n",
       "      <td>1128.000000</td>\n",
       "      <td>1.000000</td>\n",
       "    </tr>\n",
       "  </tbody>\n",
       "</table>\n",
       "</div>"
      ],
      "text/plain": [
       "             movieId        tagId    relevance\n",
       "count    6591.000000  6591.000000  6591.000000\n",
       "mean    38405.554696   611.644970     0.994968\n",
       "std     47084.649253   333.235151     0.002845\n",
       "min         1.000000     1.000000     0.990250\n",
       "25%      3435.000000   334.500000     0.992500\n",
       "50%      7454.000000   631.000000     0.995000\n",
       "75%     66253.500000   927.000000     0.997250\n",
       "max    180737.000000  1128.000000     1.000000"
      ]
     },
     "execution_count": 5,
     "metadata": {},
     "output_type": "execute_result"
    }
   ],
   "source": [
    "## We've found that > 6000 tags have a relevance of greater than 0.99, so let's take a look at what they are\n",
    "g_scores_df[g_scores_df['relevance'] > 0.99].describe()"
   ]
  },
  {
   "cell_type": "code",
   "execution_count": 6,
   "metadata": {},
   "outputs": [
    {
     "data": {
      "text/html": [
       "<div>\n",
       "<style scoped>\n",
       "    .dataframe tbody tr th:only-of-type {\n",
       "        vertical-align: middle;\n",
       "    }\n",
       "\n",
       "    .dataframe tbody tr th {\n",
       "        vertical-align: top;\n",
       "    }\n",
       "\n",
       "    .dataframe thead th {\n",
       "        text-align: right;\n",
       "    }\n",
       "</style>\n",
       "<table border=\"1\" class=\"dataframe\">\n",
       "  <thead>\n",
       "    <tr style=\"text-align: right;\">\n",
       "      <th></th>\n",
       "      <th>movieId</th>\n",
       "      <th>tagId</th>\n",
       "      <th>relevance</th>\n",
       "    </tr>\n",
       "  </thead>\n",
       "  <tbody>\n",
       "    <tr>\n",
       "      <th>count</th>\n",
       "      <td>1.168522e+06</td>\n",
       "      <td>1.168522e+06</td>\n",
       "      <td>1.168522e+06</td>\n",
       "    </tr>\n",
       "    <tr>\n",
       "      <th>mean</th>\n",
       "      <td>4.628220e+04</td>\n",
       "      <td>5.507431e+02</td>\n",
       "      <td>6.445020e-03</td>\n",
       "    </tr>\n",
       "    <tr>\n",
       "      <th>std</th>\n",
       "      <td>5.308064e+04</td>\n",
       "      <td>3.357408e+02</td>\n",
       "      <td>2.228687e-03</td>\n",
       "    </tr>\n",
       "    <tr>\n",
       "      <th>min</th>\n",
       "      <td>1.000000e+00</td>\n",
       "      <td>1.000000e+00</td>\n",
       "      <td>2.500000e-04</td>\n",
       "    </tr>\n",
       "    <tr>\n",
       "      <th>25%</th>\n",
       "      <td>4.237000e+03</td>\n",
       "      <td>2.250000e+02</td>\n",
       "      <td>4.750000e-03</td>\n",
       "    </tr>\n",
       "    <tr>\n",
       "      <th>50%</th>\n",
       "      <td>2.575700e+04</td>\n",
       "      <td>5.710000e+02</td>\n",
       "      <td>6.750000e-03</td>\n",
       "    </tr>\n",
       "    <tr>\n",
       "      <th>75%</th>\n",
       "      <td>8.164100e+04</td>\n",
       "      <td>8.260000e+02</td>\n",
       "      <td>8.250000e-03</td>\n",
       "    </tr>\n",
       "    <tr>\n",
       "      <th>max</th>\n",
       "      <td>2.064990e+05</td>\n",
       "      <td>1.128000e+03</td>\n",
       "      <td>9.750000e-03</td>\n",
       "    </tr>\n",
       "  </tbody>\n",
       "</table>\n",
       "</div>"
      ],
      "text/plain": [
       "            movieId         tagId     relevance\n",
       "count  1.168522e+06  1.168522e+06  1.168522e+06\n",
       "mean   4.628220e+04  5.507431e+02  6.445020e-03\n",
       "std    5.308064e+04  3.357408e+02  2.228687e-03\n",
       "min    1.000000e+00  1.000000e+00  2.500000e-04\n",
       "25%    4.237000e+03  2.250000e+02  4.750000e-03\n",
       "50%    2.575700e+04  5.710000e+02  6.750000e-03\n",
       "75%    8.164100e+04  8.260000e+02  8.250000e-03\n",
       "max    2.064990e+05  1.128000e+03  9.750000e-03"
      ]
     },
     "execution_count": 6,
     "metadata": {},
     "output_type": "execute_result"
    }
   ],
   "source": [
    "g_scores_df[g_scores_df['relevance'] < 0.01].describe()"
   ]
  },
  {
   "cell_type": "code",
   "execution_count": 7,
   "metadata": {},
   "outputs": [
    {
     "data": {
      "text/html": [
       "<div>\n",
       "<style scoped>\n",
       "    .dataframe tbody tr th:only-of-type {\n",
       "        vertical-align: middle;\n",
       "    }\n",
       "\n",
       "    .dataframe tbody tr th {\n",
       "        vertical-align: top;\n",
       "    }\n",
       "\n",
       "    .dataframe thead th {\n",
       "        text-align: right;\n",
       "    }\n",
       "</style>\n",
       "<table border=\"1\" class=\"dataframe\">\n",
       "  <thead>\n",
       "    <tr style=\"text-align: right;\">\n",
       "      <th></th>\n",
       "      <th>tagId</th>\n",
       "      <th>tag</th>\n",
       "    </tr>\n",
       "  </thead>\n",
       "  <tbody>\n",
       "    <tr>\n",
       "      <th>0</th>\n",
       "      <td>1</td>\n",
       "      <td>007</td>\n",
       "    </tr>\n",
       "    <tr>\n",
       "      <th>1</th>\n",
       "      <td>2</td>\n",
       "      <td>007 (series)</td>\n",
       "    </tr>\n",
       "    <tr>\n",
       "      <th>2</th>\n",
       "      <td>3</td>\n",
       "      <td>18th century</td>\n",
       "    </tr>\n",
       "    <tr>\n",
       "      <th>3</th>\n",
       "      <td>4</td>\n",
       "      <td>1920s</td>\n",
       "    </tr>\n",
       "    <tr>\n",
       "      <th>4</th>\n",
       "      <td>5</td>\n",
       "      <td>1930s</td>\n",
       "    </tr>\n",
       "  </tbody>\n",
       "</table>\n",
       "</div>"
      ],
      "text/plain": [
       "   tagId           tag\n",
       "0      1           007\n",
       "1      2  007 (series)\n",
       "2      3  18th century\n",
       "3      4         1920s\n",
       "4      5         1930s"
      ]
     },
     "execution_count": 7,
     "metadata": {},
     "output_type": "execute_result"
    }
   ],
   "source": [
    "g_tags_df.head()"
   ]
  },
  {
   "cell_type": "code",
   "execution_count": 8,
   "metadata": {},
   "outputs": [
    {
     "data": {
      "text/plain": [
       "243      computer animation\n",
       "785         pixar animation\n",
       "1035                   toys\n",
       "10152                   007\n",
       "10153          007 (series)\n",
       "10302                  bond\n",
       "12090             president\n",
       "13365                 spoof\n",
       "13599             animation\n",
       "16575               pirates\n",
       "16792          swashbuckler\n",
       "16835         treasure hunt\n",
       "17106                casino\n",
       "17342              gangster\n",
       "17343             gangsters\n",
       "17541                 mafia\n",
       "17577                   mob\n",
       "17660       organized crime\n",
       "24590         serial killer\n",
       "24896              assassin\n",
       "Name: tag, dtype: object"
      ]
     },
     "execution_count": 8,
     "metadata": {},
     "output_type": "execute_result"
    }
   ],
   "source": [
    "subset_g_scores_df_best = g_scores_df[g_scores_df['relevance'] > 0.99][:20]\n",
    "subset_g_scores_df_best['tag'] = subset_g_scores_df_best['tagId'].apply(lambda x: g_tags_df[g_tags_df['tagId'] == x]['tag'].values[0])\n",
    "subset_g_scores_df_best['tag']"
   ]
  },
  {
   "cell_type": "code",
   "execution_count": 9,
   "metadata": {},
   "outputs": [
    {
     "data": {
      "text/plain": [
       "13                  9/11\n",
       "73                arnold\n",
       "87            australian\n",
       "88     author:alan moore\n",
       "102           bad sequel\n",
       "103               ballet\n",
       "105             baseball\n",
       "116               batman\n",
       "118              beatles\n",
       "186               casino\n",
       "208         christianity\n",
       "224        coen brothers\n",
       "294        depp & burton\n",
       "346          emma watson\n",
       "391       figure skating\n",
       "475            gross-out\n",
       "479             gulf war\n",
       "487             handycam\n",
       "488      hannibal lecter\n",
       "540                india\n",
       "Name: tag, dtype: object"
      ]
     },
     "execution_count": 9,
     "metadata": {},
     "output_type": "execute_result"
    }
   ],
   "source": [
    "subset_g_scores_df_worst = g_scores_df[g_scores_df['relevance'] < 0.01][:20]\n",
    "subset_g_scores_df_worst['tag'] = subset_g_scores_df_worst['tagId'].apply(lambda x: g_tags_df[g_tags_df['tagId'] == x]['tag'].values[0])\n",
    "subset_g_scores_df_worst['tag']"
   ]
  },
  {
   "cell_type": "code",
   "execution_count": 10,
   "metadata": {},
   "outputs": [
    {
     "data": {
      "text/html": [
       "<div>\n",
       "<style scoped>\n",
       "    .dataframe tbody tr th:only-of-type {\n",
       "        vertical-align: middle;\n",
       "    }\n",
       "\n",
       "    .dataframe tbody tr th {\n",
       "        vertical-align: top;\n",
       "    }\n",
       "\n",
       "    .dataframe thead th {\n",
       "        text-align: right;\n",
       "    }\n",
       "</style>\n",
       "<table border=\"1\" class=\"dataframe\">\n",
       "  <thead>\n",
       "    <tr style=\"text-align: right;\">\n",
       "      <th></th>\n",
       "      <th>userId</th>\n",
       "      <th>movieId</th>\n",
       "      <th>tag</th>\n",
       "      <th>timestamp</th>\n",
       "    </tr>\n",
       "  </thead>\n",
       "  <tbody>\n",
       "    <tr>\n",
       "      <th>0</th>\n",
       "      <td>3</td>\n",
       "      <td>260</td>\n",
       "      <td>classic</td>\n",
       "      <td>1439472355</td>\n",
       "    </tr>\n",
       "    <tr>\n",
       "      <th>1</th>\n",
       "      <td>3</td>\n",
       "      <td>260</td>\n",
       "      <td>sci-fi</td>\n",
       "      <td>1439472256</td>\n",
       "    </tr>\n",
       "    <tr>\n",
       "      <th>2</th>\n",
       "      <td>4</td>\n",
       "      <td>1732</td>\n",
       "      <td>dark comedy</td>\n",
       "      <td>1573943598</td>\n",
       "    </tr>\n",
       "    <tr>\n",
       "      <th>3</th>\n",
       "      <td>4</td>\n",
       "      <td>1732</td>\n",
       "      <td>great dialogue</td>\n",
       "      <td>1573943604</td>\n",
       "    </tr>\n",
       "    <tr>\n",
       "      <th>4</th>\n",
       "      <td>4</td>\n",
       "      <td>7569</td>\n",
       "      <td>so bad it's good</td>\n",
       "      <td>1573943455</td>\n",
       "    </tr>\n",
       "  </tbody>\n",
       "</table>\n",
       "</div>"
      ],
      "text/plain": [
       "   userId  movieId               tag   timestamp\n",
       "0       3      260           classic  1439472355\n",
       "1       3      260            sci-fi  1439472256\n",
       "2       4     1732       dark comedy  1573943598\n",
       "3       4     1732    great dialogue  1573943604\n",
       "4       4     7569  so bad it's good  1573943455"
      ]
     },
     "execution_count": 10,
     "metadata": {},
     "output_type": "execute_result"
    }
   ],
   "source": [
    "tags_df.head()"
   ]
  },
  {
   "cell_type": "code",
   "execution_count": 11,
   "metadata": {},
   "outputs": [],
   "source": [
    "## Now that we've found some of the best and worst for relevance, let's find their frequency in the data\n",
    "def tag_counts(tag_list, tag):\n",
    "    tag_count = tag_list.count(tag)\n",
    "    return tag_count"
   ]
  },
  {
   "cell_type": "code",
   "execution_count": 12,
   "metadata": {},
   "outputs": [],
   "source": [
    "subset_g_scores_df_worst['tag_count'] = subset_g_scores_df_worst['tag'].apply(lambda x: tag_counts(tags_df['tag'].to_list(), x))\n",
    "subset_g_scores_df_best['tag_count'] = subset_g_scores_df_best['tag'].apply(lambda x: tag_counts(tags_df['tag'].to_list(), x))"
   ]
  },
  {
   "cell_type": "code",
   "execution_count": 13,
   "metadata": {},
   "outputs": [
    {
     "name": "stdout",
     "output_type": "stream",
     "text": [
      "     movieId  tagId  relevance                tag  tag_count\n",
      "13         1     14    0.00700               9/11         66\n",
      "73         1     74    0.00975             arnold        236\n",
      "87         1     88    0.00575         australian         75\n",
      "88         1     89    0.00675  author:alan moore          0\n",
      "102        1    103    0.00725         bad sequel         80\n",
      "103        1    104    0.00400             ballet        208\n",
      "105        1    106    0.00525           baseball        291\n",
      "116        1    117    0.00550             batman        101\n",
      "118        1    119    0.00375            beatles         10\n",
      "186        1    187    0.00900             casino        190\n",
      "208        1    209    0.00825       christianity        268\n",
      "224        1    225    0.00675      coen brothers        142\n",
      "294        1    295    0.00750      depp & burton          1\n",
      "346        1    347    0.00800        emma watson         17\n",
      "391        1    392    0.00600     figure skating         56\n",
      "475        1    476    0.00975          gross-out          6\n",
      "479        1    480    0.00975           gulf war         11\n",
      "487        1    488    0.00775           handycam          3\n",
      "488        1    489    0.00275    hannibal lecter          8\n",
      "540        1    541    0.00850              india        169\n"
     ]
    }
   ],
   "source": [
    "print(subset_g_scores_df_worst)"
   ]
  },
  {
   "cell_type": "code",
   "execution_count": 14,
   "metadata": {},
   "outputs": [
    {
     "name": "stdout",
     "output_type": "stream",
     "text": [
      "       movieId  tagId  relevance                 tag  tag_count\n",
      "243          1    244    0.99875  computer animation        313\n",
      "785          1    786    0.99575     pixar animation         17\n",
      "1035         1   1036    0.99925                toys         80\n",
      "10152       10      1    0.99950                 007        214\n",
      "10153       10      2    1.00000        007 (series)         75\n",
      "10302       10    151    0.99900                bond         44\n",
      "12090       11    811    0.99675           president         95\n",
      "13365       12    958    0.99275               spoof        398\n",
      "13599       13     64    0.99200           animation       2661\n",
      "16575       15    784    0.99025             pirates        444\n",
      "16792       15   1001    0.99175        swashbuckler        129\n",
      "16835       15   1044    0.99775       treasure hunt        308\n",
      "17106       16    187    0.99325              casino        190\n",
      "17342       16    423    0.99150            gangster        558\n",
      "17343       16    424    0.99025           gangsters        390\n",
      "17541       16    622    0.99500               mafia        638\n",
      "17577       16    658    0.99425                 mob         77\n",
      "17660       16    741    0.99900     organized crime       1104\n",
      "24590       22    903    0.99725       serial killer       2063\n",
      "24896       23     81    0.99250            assassin        965\n"
     ]
    }
   ],
   "source": [
    "print(subset_g_scores_df_best)"
   ]
  },
  {
   "cell_type": "markdown",
   "metadata": {},
   "source": [
    "Since the description of our data tells us *'The tag genome was computed using a machine learning algorithm on user-contributed content including tags, ratings, and textual reviews.'* we can assume from our findings that the relevance score does not correspond to the frequency. We might be able to assume that the relevance score is based on the output of the machine learning algorithm used to generate it. So how many tags on average are associated to each movie?"
   ]
  },
  {
   "cell_type": "code",
   "execution_count": 15,
   "metadata": {},
   "outputs": [
    {
     "data": {
      "text/plain": [
       "movieId\n",
       "1         1128\n",
       "2         1128\n",
       "3         1128\n",
       "4         1128\n",
       "5         1128\n",
       "          ... \n",
       "205072    1128\n",
       "205076    1128\n",
       "205383    1128\n",
       "205425    1128\n",
       "206499    1128\n",
       "Name: movieId, Length: 13816, dtype: int64"
      ]
     },
     "execution_count": 15,
     "metadata": {},
     "output_type": "execute_result"
    }
   ],
   "source": [
    "g_scores_df.groupby('movieId')['movieId'].count().sort_index()"
   ]
  },
  {
   "cell_type": "code",
   "execution_count": 16,
   "metadata": {},
   "outputs": [
    {
     "name": "stdout",
     "output_type": "stream",
     "text": [
      "(15584448, 3)\n",
      "(1128, 2)\n"
     ]
    },
    {
     "data": {
      "text/plain": [
       "15584448"
      ]
     },
     "execution_count": 16,
     "metadata": {},
     "output_type": "execute_result"
    }
   ],
   "source": [
    "# Quick sanity check. We have 13816 unique movie Id's and for each movie, there appears to the 1128 tags. Does this match the dataframe shape?\n",
    "print(g_scores_df.shape)\n",
    "print(g_tags_df.shape)\n",
    "13816*1128"
   ]
  },
  {
   "cell_type": "markdown",
   "metadata": {},
   "source": [
    "Great, now since we know that each movie has the same tags applied, we need to whittle them down to the most relevant for each. So let's take a look at what we've got and where we should set a sensible threshold. "
   ]
  },
  {
   "cell_type": "code",
   "execution_count": 17,
   "metadata": {},
   "outputs": [],
   "source": [
    "g_scores_df['points_bin'] = pd.cut(g_scores_df['relevance'], bins=[0, .2, .4, .6, .8, 1])\n",
    "agg_g_scores_df = g_scores_df.groupby('movieId')['points_bin'].value_counts().to_frame()"
   ]
  },
  {
   "cell_type": "code",
   "execution_count": 24,
   "metadata": {},
   "outputs": [
    {
     "data": {
      "text/plain": [
       "<AxesSubplot:ylabel='Frequency'>"
      ]
     },
     "execution_count": 24,
     "metadata": {},
     "output_type": "execute_result"
    },
    {
     "data": {
      "image/png": "[encoded data removed]",
      "text/plain": [
       "<Figure size 640x480 with 1 Axes>"
      ]
     },
     "metadata": {},
     "output_type": "display_data"
    }
   ],
   "source": [
    "agg_g_scores_df.plot(kind='hist')"
   ]
  },
  {
   "cell_type": "code",
   "execution_count": 21,
   "metadata": {},
   "outputs": [
    {
     "data": {
      "text/plain": [
       "<AxesSubplot:>"
      ]
     },
     "execution_count": 21,
     "metadata": {},
     "output_type": "execute_result"
    },
    {
     "data": {
      "image/png": "[encoded data removed]",
      "text/plain": [
       "<Figure size 640x480 with 1 Axes>"
      ]
     },
     "metadata": {},
     "output_type": "display_data"
    }
   ],
   "source": [
    "g_scores_df['points_bin'].value_counts().plot(kind='bar')"
   ]
  },
  {
   "cell_type": "markdown",
   "metadata": {},
   "source": []
  },
  {
   "cell_type": "markdown",
   "metadata": {},
   "source": []
  }
 ],
 "metadata": {
  "kernelspec": {
   "display_name": "Python 3.8.10 ('.recommender_system': venv)",
   "language": "python",
   "name": "python3"
  },
  "language_info": {
   "codemirror_mode": {
    "name": "ipython",
    "version": 3
   },
   "file_extension": ".py",
   "mimetype": "text/x-python",
   "name": "python",
   "nbconvert_exporter": "python",
   "pygments_lexer": "ipython3",
   "version": "3.8.10"
  },
  "orig_nbformat": 4,
  "vscode": {
   "interpreter": {
    "hash": "38b4edab5521cf0dbb78c9a523448e794a6fb4f404cbea5398d66cef19a9b035"
   }
  }
 },
 "nbformat": 4,
 "nbformat_minor": 2
}
