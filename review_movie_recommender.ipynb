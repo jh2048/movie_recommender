{
 "cells": [
  {
   "cell_type": "code",
   "execution_count": 23,
   "metadata": {},
   "outputs": [
    {
     "name": "stdout",
     "output_type": "stream",
     "text": [
      "/home/jjkh/repos/recommender_system/utils\n"
     ]
    }
   ],
   "source": [
    "import os, sys, requests, itertools\n",
    "import numpy as np\n",
    "from bs4 import BeautifulSoup\n",
    "\n",
    "module_path = os.path.abspath(os.path.join('./utils'))\n",
    "print(module_path)\n",
    "\n",
    "if module_path not in sys.path:\n",
    "    sys.path.append(module_path)\n",
    "    print(sys.path)\n",
    "    \n",
    "import imdbUtils as imdbutils\n"
   ]
  },
  {
   "cell_type": "code",
   "execution_count": 6,
   "metadata": {},
   "outputs": [],
   "source": [
    "#!python -m pip install requests"
   ]
  },
  {
   "cell_type": "code",
   "execution_count": 7,
   "metadata": {},
   "outputs": [],
   "source": [
    "min_rating, max_rating = 4.0, 10.0\n",
    "n_votes = 50000\n",
    "genres = 'thriller'\n",
    "title_count = 250\n",
    "\n",
    "SEARCH_URL = f\"https://www.imdb.com/search/title/?title_type=feature&user_rating={min_rating},{max_rating}&num_votes={n_votes},&genres={genres}&view=simple&sort=user_rating,desc&count={title_count}\""
   ]
  },
  {
   "cell_type": "code",
   "execution_count": 9,
   "metadata": {},
   "outputs": [],
   "source": [
    "movies_soup = imdbutils.getSoup(SEARCH_URL)"
   ]
  },
  {
   "cell_type": "code",
   "execution_count": 11,
   "metadata": {},
   "outputs": [
    {
     "name": "stdout",
     "output_type": "stream",
     "text": [
      "There are a total of 250 movie titles\n",
      "Displaying 10 titles\n"
     ]
    },
    {
     "data": {
      "text/plain": [
       "['/title/tt0468569/',\n",
       " '/title/tt1375666/',\n",
       " '/title/tt6751668/',\n",
       " '/title/tt0114369/',\n",
       " '/title/tt0102926/',\n",
       " '/title/tt0482571/',\n",
       " '/title/tt0407887/',\n",
       " '/title/tt0114814/',\n",
       " '/title/tt0110413/',\n",
       " '/title/tt0054215/']"
      ]
     },
     "execution_count": 11,
     "metadata": {},
     "output_type": "execute_result"
    }
   ],
   "source": [
    "# find all a-tags with class:None\n",
    "movie_tags = movies_soup.find_all('a', attrs={'class': None})\n",
    "\n",
    "# filter the a-tags to get just the titles\n",
    "movie_tags = [tag.attrs['href'] for tag in movie_tags \n",
    "              if tag.attrs['href'].startswith('/title') & tag.attrs['href'].endswith('/')]\n",
    "\n",
    "# remove duplicate links\n",
    "movie_tags = list(dict.fromkeys(movie_tags))\n",
    "\n",
    "print(\"There are a total of \" + str(len(movie_tags)) + \" movie titles\")\n",
    "print(\"Displaying 10 titles\")\n",
    "movie_tags[:10]"
   ]
  },
  {
   "cell_type": "code",
   "execution_count": 14,
   "metadata": {},
   "outputs": [
    {
     "name": "stdout",
     "output_type": "stream",
     "text": [
      "There are a total of 250 movie user reviews\n",
      "Displaying 10 user reviews links\n"
     ]
    },
    {
     "data": {
      "text/plain": [
       "['https://www.imdb.com/title/tt0468569/reviews',\n",
       " 'https://www.imdb.com/title/tt1375666/reviews',\n",
       " 'https://www.imdb.com/title/tt6751668/reviews',\n",
       " 'https://www.imdb.com/title/tt0114369/reviews',\n",
       " 'https://www.imdb.com/title/tt0102926/reviews',\n",
       " 'https://www.imdb.com/title/tt0482571/reviews',\n",
       " 'https://www.imdb.com/title/tt0407887/reviews',\n",
       " 'https://www.imdb.com/title/tt0114814/reviews',\n",
       " 'https://www.imdb.com/title/tt0110413/reviews',\n",
       " 'https://www.imdb.com/title/tt0054215/reviews']"
      ]
     },
     "execution_count": 14,
     "metadata": {},
     "output_type": "execute_result"
    }
   ],
   "source": [
    "base_url = \"https://www.imdb.com\"\n",
    "movie_links = [base_url + tag + 'reviews' for tag in movie_tags]\n",
    "print(\"There are a total of \" + str(len(movie_links)) + \" movie user reviews\")\n",
    "print(\"Displaying 10 user reviews links\")\n",
    "movie_links[:10]"
   ]
  },
  {
   "cell_type": "code",
   "execution_count": 15,
   "metadata": {},
   "outputs": [
    {
     "name": "stdout",
     "output_type": "stream",
     "text": [
      "There are a total of 250 movie user reviews\n",
      "Displaying 10 user reviews links\n"
     ]
    },
    {
     "data": {
      "text/plain": [
       "['https://www.imdb.com/title/tt0468569/reviews',\n",
       " 'https://www.imdb.com/title/tt1375666/reviews',\n",
       " 'https://www.imdb.com/title/tt6751668/reviews',\n",
       " 'https://www.imdb.com/title/tt0114369/reviews',\n",
       " 'https://www.imdb.com/title/tt0102926/reviews',\n",
       " 'https://www.imdb.com/title/tt0482571/reviews',\n",
       " 'https://www.imdb.com/title/tt0407887/reviews',\n",
       " 'https://www.imdb.com/title/tt0114814/reviews',\n",
       " 'https://www.imdb.com/title/tt0110413/reviews',\n",
       " 'https://www.imdb.com/title/tt0054215/reviews']"
      ]
     },
     "execution_count": 15,
     "metadata": {},
     "output_type": "execute_result"
    }
   ],
   "source": [
    "base_url = \"https://www.imdb.com\"\n",
    "movie_links = [base_url + tag + 'reviews' for tag in movie_tags]\n",
    "print(\"There are a total of \" + str(len(movie_links)) + \" movie user reviews\")\n",
    "print(\"Displaying 10 user reviews links\")\n",
    "movie_links[:10]"
   ]
  },
  {
   "cell_type": "code",
   "execution_count": 21,
   "metadata": {},
   "outputs": [
    {
     "name": "stdout",
     "output_type": "stream",
     "text": [
      "500\n",
      "There are a total of 500 individual movie reviews\n",
      "Displaying 10 reviews\n"
     ]
    },
    {
     "data": {
      "text/plain": [
       "['https://www.imdb.com/review/rw6513945/',\n",
       " 'https://www.imdb.com/review/rw5478826/',\n",
       " 'https://www.imdb.com/review/rw2377775/',\n",
       " 'https://www.imdb.com/review/rw4692192/',\n",
       " 'https://www.imdb.com/review/rw5281302/',\n",
       " 'https://www.imdb.com/review/rw5195256/',\n",
       " 'https://www.imdb.com/review/rw0960802/',\n",
       " 'https://www.imdb.com/review/rw0370669/',\n",
       " 'https://www.imdb.com/review/rw5797530/',\n",
       " 'https://www.imdb.com/review/rw1198894/']"
      ]
     },
     "execution_count": 21,
     "metadata": {},
     "output_type": "execute_result"
    }
   ],
   "source": [
    "# get a list of soup objects\n",
    "movie_soups = [imdbutils.getSoup(link) for link in movie_links]\n",
    "\n",
    "# get all 500 movie review links\n",
    "movie_review_list = [imdbutils.getReviews(movie_soup) for movie_soup in movie_soups]\n",
    "\n",
    "movie_review_list = list(itertools.chain(*movie_review_list))\n",
    "print(len(movie_review_list))\n",
    "\n",
    "print(\"There are a total of \" + str(len(movie_review_list)) + \" individual movie reviews\")\n",
    "print(\"Displaying 10 reviews\")\n",
    "movie_review_list[:10]"
   ]
  },
  {
   "cell_type": "code",
   "execution_count": 25,
   "metadata": {},
   "outputs": [
    {
     "ename": "NameError",
     "evalue": "name 'pd' is not defined",
     "output_type": "error",
     "traceback": [
      "\u001b[0;31m---------------------------------------------------------------------------\u001b[0m",
      "\u001b[0;31mNameError\u001b[0m                                 Traceback (most recent call last)",
      "\u001b[0;32m<ipython-input-25-49cf3e39fe21>\u001b[0m in \u001b[0;36m<module>\u001b[0;34m\u001b[0m\n\u001b[1;32m      9\u001b[0m \u001b[0;34m\u001b[0m\u001b[0m\n\u001b[1;32m     10\u001b[0m \u001b[0;31m# construct a dataframe\u001b[0m\u001b[0;34m\u001b[0m\u001b[0;34m\u001b[0m\u001b[0;34m\u001b[0m\u001b[0m\n\u001b[0;32m---> 11\u001b[0;31m df = pd.DataFrame({'movie': movie_titles, 'user_review_permalink': movie_review_list,\n\u001b[0m\u001b[1;32m     12\u001b[0m              'user_review': review_texts, 'sentiment': review_sentiment})\n",
      "\u001b[0;31mNameError\u001b[0m: name 'pd' is not defined"
     ]
    }
   ],
   "source": [
    "# get review text from the review link\n",
    "review_texts = [imdbutils.getReviewText(url) for url in movie_review_list]\n",
    "\n",
    "# get movie name from the review link\n",
    "movie_titles = [imdbutils.getMovieTitle(url) for url in movie_review_list]\n",
    "\n",
    "# label each review with negative or positive\n",
    "review_sentiment = np.array(['negative', 'positive'] * (len(movie_review_list)//2))\n",
    "\n",
    "# construct a dataframe\n",
    "df = pd.DataFrame({'movie': movie_titles, 'user_review_permalink': movie_review_list,\n",
    "             'user_review': review_texts, 'sentiment': review_sentiment})"
   ]
  },
  {
   "cell_type": "code",
   "execution_count": null,
   "metadata": {},
   "outputs": [],
   "source": [
    "MOVIES_DIR = \n",
    "REVIEWS_DIR =\n",
    "'https://shravan-kuchkula.github.io/scrape_imdb_movie_reviews/#step-3-for-each-movie-extract-the-movies-user-reviews-link'"
   ]
  }
 ],
 "metadata": {
  "kernelspec": {
   "display_name": "Python 3",
   "language": "python",
   "name": "python3"
  },
  "language_info": {
   "codemirror_mode": {
    "name": "ipython",
    "version": 3
   },
   "file_extension": ".py",
   "mimetype": "text/x-python",
   "name": "python",
   "nbconvert_exporter": "python",
   "pygments_lexer": "ipython3",
   "version": "3.7.3"
  }
 },
 "nbformat": 4,
 "nbformat_minor": 2
}
